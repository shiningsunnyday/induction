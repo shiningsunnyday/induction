{
 "cells": [
  {
   "cell_type": "code",
   "execution_count": 1,
   "metadata": {},
   "outputs": [
    {
     "name": "stderr",
     "output_type": "stream",
     "text": [
      "/home/msun415/miniforge3/envs/ckt/lib/python3.7/site-packages/tqdm/auto.py:21: TqdmWarning: IProgress not found. Please update jupyter and ipywidgets. See https://ipywidgets.readthedocs.io/en/stable/user_install.html\n",
      "  from .autonotebook import tqdm as notebook_tqdm\n"
     ]
    }
   ],
   "source": [
    "import os\n",
    "os.environ[\"config\"] = \"/home/msun415/induction/src/config/mol.yaml\"\n",
    "import sys\n",
    "os.chdir('/home/msun415/induction/')\n",
    "sys.path.append('/home/msun415/induction/my_data_efficient_grammar')\n",
    "import argparse \n",
    "from rdkit import Chem\n",
    "from rdkit.Chem import rdchem\n",
    "from multiprocessing import Pool\n",
    "from tqdm import tqdm\n",
    "from itertools import permutations\n",
    "from functools import reduce\n",
    "from rdkit.Chem import Draw\n",
    "import matplotlib.pyplot as plt\n",
    "from matplotlib.patches import FancyArrowPatch\n",
    "import networkx as nx\n",
    "from networkx.algorithms.isomorphism import GraphMatcher\n",
    "from collections import defaultdict, Counter\n",
    "import sys\n",
    "import numpy as np\n",
    "import pandas as pd\n",
    "from PIL import Image, ImageDraw\n",
    "import json\n",
    "from rdkit.Chem.rdmolops import FastFindRings\n",
    "from itertools import accumulate, product\n",
    "from copy import deepcopy\n",
    "from private.molecule_graph import MolGraph\n",
    "import networkx.algorithms.chordal as chordal\n",
    "import os\n",
    "import networkx as nx\n",
    "import pandas as pd\n",
    "import pickle\n",
    "from src.draw.graph import draw_graph\n",
    "import networkx as nx\n",
    "import random\n",
    "from collections.abc import Iterable\n",
    "import re\n",
    "import pickle\n",
    "import glob\n",
    "from pathlib import Path\n",
    "from src.algo.hg import llm_call, grammar_inference\n",
    "from src.grammar.hg import Grammar\n",
    "import concurrent.futures\n",
    "\n",
    "def flatten(nested_iterable):\n",
    "    if isinstance(nested_iterable, Iterable):\n",
    "        return sum([flatten(iterable) for iterable in nested_iterable], [])\n",
    "    else:\n",
    "        return [nested_iterable]\n",
    "\n",
    "# SEED = 0\n",
    "# random.seed(SEED)\n",
    "# np.random.seed(SEED)\n",
    "# import pygsp as gsp\n",
    "# from pygsp import graphs\n",
    "\n",
    "from src.api.get_motifs import prepare_images\n",
    "import openai\n",
    "openai.api_key = open('notebooks/api_key.txt').readline().rstrip('\\n')"
   ]
  },
  {
   "cell_type": "code",
   "execution_count": 3,
   "metadata": {},
   "outputs": [],
   "source": [
    "num_seeds = 5\n",
    "for dataset in ['acrylates',]:\n",
    "    for ablate in ['ablate_merge','ablate_root','ablate_tree']:\n",
    "        seedstr_lambda = lambda seed: f\"{ablate}-{seed}\"\n",
    "\n",
    "        for seed in range(1,num_seeds+1):\n",
    "            seedstr = seedstr_lambda(seed)\n",
    "            globals()[f'grammar_{seed}'] = pickle.load(open(f'/home/msun415/induction/data/api_mol_hg/grammar-{dataset}-{seedstr}.pkl', 'rb'))\n",
    "            globals()[f'trees_{seed}'] = pickle.load(open(f'/home/msun415/induction/data/api_mol_hg/trees-{dataset}-{seedstr}.pkl', 'rb'))\n",
    "        grammar = deepcopy(grammar_1)    \n",
    "        for i in range(2,num_seeds+1):\n",
    "            grammar.combine(locals()[f'grammar_{i}'])\n",
    "            pickle.dump(grammar, open(f'/home/msun415/induction/data/api_mol_hg/grammar-{dataset}-{ablate}-1-{i}-all.pkl', 'wb+'))       \n"
   ]
  },
  {
   "cell_type": "code",
   "execution_count": 16,
   "metadata": {},
   "outputs": [],
   "source": [
    "num_seeds = 10\n",
    "for dataset in ['acrylates']:\n",
    "    seedstr_lambda = lambda seed: f\"{seed}-more-specific\"\n",
    "    for seed in range(1,num_seeds+1):\n",
    "        seedstr = seedstr_lambda(seed)\n",
    "        globals()[f'grammar_{seed}'] = pickle.load(open(f'/home/msun415/induction/data/api_mol_hg/grammar-{dataset}-{seedstr}.pkl', 'rb'))\n",
    "        globals()[f'trees_{seed}'] = pickle.load(open(f'/home/msun415/induction/data/api_mol_hg/trees-{dataset}-{seedstr}.pkl', 'rb'))\n",
    "    grammar = deepcopy(grammar_1)    \n",
    "    for i in range(2,num_seeds+1):\n",
    "        grammar.combine(locals()[f'grammar_{i}'])\n",
    "        pickle.dump(grammar, open(f'/home/msun415/induction/data/api_mol_hg/grammar-{dataset}-1-{i}-all.pkl', 'wb+'))"
   ]
  },
  {
   "cell_type": "code",
   "execution_count": 2,
   "metadata": {},
   "outputs": [],
   "source": [
    "num_seeds = 10\n",
    "dataset = 'acrylates'\n",
    "seedstr_lambda = lambda seed: f\"{seed}-more-specific\"\n",
    "for seed in range(1,num_seeds+1):\n",
    "    seedstr = seedstr_lambda(seed)\n",
    "    globals()[f'grammar_{seed}'] = pickle.load(open(f'/home/msun415/induction/data/api_mol_hg/grammar-{dataset}-{seedstr}.pkl', 'rb'))\n",
    "    globals()[f'trees_{seed}'] = pickle.load(open(f'/home/msun415/induction/data/api_mol_hg/trees-{dataset}-{seedstr}.pkl', 'rb'))"
   ]
  },
  {
   "cell_type": "code",
   "execution_count": 3,
   "metadata": {},
   "outputs": [],
   "source": [
    "for p in os.listdir('/home/msun415/induction/data/api_mol_hg/'):\n",
    "    if p.endswith('.pkl'):\n",
    "        data = pickle.load(open(os.path.join('/home/msun415/induction/data/api_mol_hg/', p), 'rb'))\n",
    "        if hasattr(data, 'folder_lookup'):\n",
    "            for f in data.folder_lookup.values():\n",
    "                if f is not None:\n",
    "                    path = os.path.join('/home/msun415/induction/', f)\n",
    "                    if os.path.exists(path):\n",
    "                        for d in os.listdir(path):\n",
    "                            if 'tree' in d:\n",
    "                                print(p)"
   ]
  },
  {
   "cell_type": "code",
   "execution_count": 3,
   "metadata": {},
   "outputs": [],
   "source": [
    "for seed in range(1,num_seeds+1):\n",
    "    globals()[f'smis_{seed}'] = list(globals()[f'grammar_{seed}'].mol_lookup)\n",
    "smile_set = set(smis_1)"
   ]
  },
  {
   "cell_type": "code",
   "execution_count": 4,
   "metadata": {},
   "outputs": [],
   "source": [
    "def compare_rhs(r1, r2):\n",
    "    gm = GraphMatcher(r1, r2, node_match=lambda x,y: x['label']==y['label'])\n",
    "    for sub in gm.isomorphisms_iter():\n",
    "        map_ext_nodes = set([sub[n] for n in r1 if n[0] == 'e'])\n",
    "        if map_ext_nodes == set([n for n in r2 if n[0] == 'e']):\n",
    "            return True\n",
    "    return False\n",
    "\n",
    "def compare(set_1, set_2, iou=False):\n",
    "    if not iou and len(set_1) != len(set_2):\n",
    "        return False\n",
    "    if iou:\n",
    "        intersect = 0\n",
    "    for i in range(len(set_1)-1,-1,-1):\n",
    "        # try to find it in set_2\n",
    "        r1 = set_1[i]\n",
    "        found = -1\n",
    "        for j in range(len(set_2)-1,-1,-1):\n",
    "            r2 = set_2[j]\n",
    "            if len(r1) != len(r2):\n",
    "                continue\n",
    "            if compare_rhs(r1, r2):\n",
    "                found = j\n",
    "                break\n",
    "            if found != -1:\n",
    "                break\n",
    "        if not iou:\n",
    "            if found == -1:\n",
    "                return False\n",
    "            set_2.pop(found)\n",
    "        if iou and found != -1:\n",
    "            intersect += 1            \n",
    "    if iou:\n",
    "        return intersect/(len(set_1)+len(set_2)-intersect)\n",
    "    else:\n",
    "        return True\n",
    "\n",
    "\n",
    "\n",
    "def compare_rulesets():\n",
    "    rule_multisets = defaultdict(list)\n",
    "    for smi in list(smile_set):\n",
    "        for grammar, trees, smis in [(globals()[f'grammar_{seed}'], globals()[f'trees_{seed}'], globals()[f'smis_{seed}']) for seed in range(1,num_seeds+1)]:    \n",
    "            idx = smis.index(smi)    \n",
    "            rule_gs = []\n",
    "            for i in range(len(trees[idx])):\n",
    "                data = trees[idx].nodes[i]\n",
    "                symbol = data['symbol']\n",
    "                rule_str = data['rule']\n",
    "                rule_idx = grammar.rule_idx_lookup[smi][symbol][rule_str]\n",
    "                rule = grammar.hrg.rules[rule_idx]\n",
    "                rhs_g = rule.rhs.visualize(path='', return_g=True)\n",
    "                rule_gs.append(rhs_g)\n",
    "            rule_multisets[smi].append(rule_gs)\n",
    "    # compare two rule sets\n",
    "    res = {}\n",
    "    for smiles in rule_multisets:\n",
    "        multisets = rule_multisets[smiles]\n",
    "        count = 0\n",
    "        for i in range(len(multisets)):\n",
    "            for j in range(i+1, len(multisets)):\n",
    "                count += compare(multisets[i], multisets[j], iou=True)\n",
    "        res[smiles] = count/(len(multisets)*(len(multisets)-1)/2)\n",
    "\n",
    "\n",
    "def bradley_terry(pairwise_results, num_debaters, max_iterations=100, tolerance=1e-6):\n",
    "    # Step 1: Initialize skill levels for each debater (theta values)\n",
    "    theta = [1.0 for _ in range(num_debaters)]  # Initial guess, could be any positive number\n",
    "    for iteration in range(max_iterations):\n",
    "        theta_old = theta[:]  # Keep a copy of the old theta values for convergence check\n",
    "        # Step 2: For each debater i, update their theta based on all pairwise matches\n",
    "        for i in range(num_debaters):\n",
    "            numerator = 0.0\n",
    "            denominator = 0.0\n",
    "            # Step 3: Iterate over all match results involving debater i\n",
    "            for (i_prime, j, S_i_prime) in pairwise_results:\n",
    "                if i_prime == i:  # i played against j\n",
    "                    numerator += S_i_prime  # Sum of debater i's scores\n",
    "                    denominator += S_i_prime + (1 - S_i_prime) * (theta[j] / theta[i])  # Bradley-Terry denominator\n",
    "                elif j == i:  # i played against i_prime\n",
    "                    numerator += (1 - S_i_prime)  # Sum of debater j's scores\n",
    "                    denominator += (1 - S_i_prime) + S_i_prime * (theta[i_prime] / theta[i])\n",
    "            # Step 4: Update theta for debater i using the Bradley-Terry scaling formula\n",
    "            theta[i] = numerator / denominator\n",
    "        # Step 5: Check for convergence\n",
    "        if max(abs(theta[i] - theta_old[i]) for i in range(num_debaters)) < tolerance:\n",
    "            break\n",
    "    # Step 6: Rank debaters by theta values (higher is better)\n",
    "    ranked_debaters = sorted(range(num_debaters), key=lambda x: theta[x], reverse=True)\n",
    "    return ranked_debaters, theta  # The winner is the debater with the highest theta value\n",
    "\n",
    "\n",
    "def llm_debate(smiles, cot_1, cot_2, prompt_path):\n",
    "    base_prompt = ''.join(open(prompt_path).readlines())\n",
    "    base_prompt = base_prompt.replace('<smiles>', smiles)\n",
    "    prompt = f\"Analysis A:\\n\\n{cot_1}\\n\\nAnalysis B:\\n\\n{cot_2}\"\n",
    "    logprobs = llm_call([], None, prompt=base_prompt+'\\n'+prompt, return_logprobs=True)\n",
    "    log_probs = [None, None]\n",
    "    for logprob in logprobs:\n",
    "        if logprob['token'] == 'A':\n",
    "            log_probs[0] = logprob['logprob']\n",
    "        elif logprob['token'] == 'B':\n",
    "            log_probs[1] = logprob['logprob']\n",
    "    if None in log_probs:\n",
    "        return None\n",
    "    return np.exp(log_probs)/sum(np.exp(log_probs))\n",
    "\n",
    "\n",
    "def read_tree_cot(folder):\n",
    "    path_1 = os.path.join(folder, 'motifs_cot.txt')\n",
    "    path_2 = os.path.join(folder, 'root_cot.txt')\n",
    "    lines_1 = open(path_1).readlines()\n",
    "    lines_2 = open(path_2).readlines()\n",
    "    clique_cot = ''.join(lines_1)\n",
    "    root_cot = ''.join(lines_2)\n",
    "    paths = glob.glob(os.path.join(folder, 'tree/*.txt'))\n",
    "    paths.sort(key=lambda x: os.path.getmtime(x))\n",
    "    tree_cots = []\n",
    "    for i, path in enumerate(paths):    \n",
    "        stem = Path(path).stem\n",
    "        nodes = stem.split(':')[0].split('-')\n",
    "        a, b = map(int, nodes)\n",
    "        step = f\"Step {i+1}: Join Motif {a} (positive) with Motif {b} (negative).\\n\"\n",
    "        step_cot = ''.join(open(path).readlines())\n",
    "        cot = step + f\"Reasoning: {step_cot}\\n\"\n",
    "        tree_cots.append(cot)\n",
    "    tree_cot = clique_cot + '\\n\\n' + root_cot + '\\n\\n' + '\\n'.join(tree_cots)\n",
    "    return tree_cot\n",
    "\n",
    "\n",
    "def round_robin_tournament(smis):\n",
    "    # rank which grammar did the best job at decomposing a mol\n",
    "    winner = {}\n",
    "    rankings = {}\n",
    "    for smi in smis:\n",
    "        pairwise_res = []\n",
    "        tree_cots = [None for _ in range(num_seeds)]\n",
    "        for i in range(num_seeds):\n",
    "            folder = globals()[f'grammar_{i+1}'].folder_lookup[smi]\n",
    "            tree_cots[i] = read_tree_cot(folder)\n",
    "        for i in range(num_seeds):\n",
    "            for j in range(i+1, num_seeds):\n",
    "                res = llm_debate(smi, tree_cots[i], tree_cots[j], f'/home/msun415/induction/data/{dataset}/api_mol_hg_7.txt')\n",
    "                print(res)\n",
    "                pairwise_res.append((i, j, res[0]))\n",
    "        ranking, theta = bradley_terry(pairwise_res, num_seeds)\n",
    "        winner[smi] = ranking[0]\n",
    "        rankings[smi] = ranking \n",
    "    return winner, rankings  \n",
    "\n",
    "\n",
    "def swiss_tournament(smis, num_rounds=4, cache=None):\n",
    "    def _tournament(smi):\n",
    "        tree_cots = [None for _ in range(num_seeds)]        \n",
    "        for i in range(num_seeds):\n",
    "            folder = globals()[f'grammar_{i+1}'].folder_lookup[smi]\n",
    "            tree_cots[i] = read_tree_cot(folder)\n",
    "        pairwise_results = []\n",
    "        debater_scores = {i: 0 for i in range(num_seeds)}\n",
    "        for round_num in range(num_rounds):\n",
    "            sorted_debaters = sorted(debater_scores.keys(), key=lambda x: debater_scores[x], reverse=True)\n",
    "            if num_seeds % 2:\n",
    "                pairings = range(round_num%2, num_seeds-(round_num+1)%2, 2)\n",
    "            else:\n",
    "                pairings = range(0,num_seeds-1,2)\n",
    "            match_pairs = [(sorted_debaters[i], sorted_debaters[i + 1]) for i in pairings]\n",
    "            for i, j in match_pairs:                \n",
    "                res = llm_debate(smi, tree_cots[i], tree_cots[j], f'/home/msun415/induction/data/{dataset}/api_mol_hg_7.txt')  \n",
    "                S_i = res[0]              \n",
    "                S_j = 1 - S_i\n",
    "                if S_i == 1 or S_i == 0:\n",
    "                    print(\"bad\")\n",
    "                pairwise_results.append((i, j, S_i))\n",
    "                debater_scores[i] += S_i\n",
    "                debater_scores[j] += S_j\n",
    "        return smi, pairwise_results\n",
    "    if cache and os.path.exists(cache):\n",
    "        winner, rankings = pickle.load(open(cache, 'rb'))\n",
    "        smis = [smi for smi in smis if smi not in winner]\n",
    "    else:\n",
    "        winner = {}\n",
    "        rankings = {}        \n",
    "    import threading \n",
    "    lock = threading.Lock()\n",
    "    with concurrent.futures.ThreadPoolExecutor(50) as executor:\n",
    "        # Submit tasks to the thread pool\n",
    "        futures = [\n",
    "            executor.submit(_tournament, smi)\n",
    "            for smi in tqdm(smis, desc=\"submitting generation tasks\")\n",
    "        ]\n",
    "        for future in concurrent.futures.as_completed(futures):\n",
    "            smi, pairwise_results = future.result()\n",
    "            ranked_debaters, _ = bradley_terry(pairwise_results, num_seeds)\n",
    "            with lock:\n",
    "                winner[smi] = ranked_debaters[0]\n",
    "                rankings[smi] = ranked_debaters\n",
    "                pickle.dump((winner, rankings), open(cache, 'wb+'))\n",
    "                print(f\"{len(winner)}/{len(smis)} done\")\n",
    "    return winner, rankings \n",
    "\n"
   ]
  },
  {
   "cell_type": "code",
   "execution_count": 12,
   "metadata": {},
   "outputs": [
    {
     "name": "stderr",
     "output_type": "stream",
     "text": [
      "submitting generation tasks: 100%|██████████| 32/32 [00:00<00:00, 471.03it/s]\n"
     ]
    },
    {
     "name": "stdout",
     "output_type": "stream",
     "text": [
      "1/32 done\n",
      "2/32 done\n",
      "3/32 done\n",
      "4/32 done\n",
      "5/32 done\n",
      "6/32 done\n",
      "7/32 done\n",
      "8/32 done\n",
      "9/32 done\n",
      "10/32 done\n",
      "11/32 done\n",
      "12/32 done\n",
      "13/32 done\n",
      "14/32 done\n",
      "15/32 done\n",
      "16/32 done\n",
      "17/32 done\n",
      "18/32 done\n",
      "19/32 done\n",
      "20/32 done\n",
      "21/32 done\n",
      "22/32 done\n",
      "23/32 done\n",
      "24/32 done\n",
      "25/32 done\n",
      "26/32 done\n",
      "27/32 done\n",
      "28/32 done\n",
      "29/32 done\n",
      "30/32 done\n",
      "31/32 done\n",
      "32/32 done\n"
     ]
    }
   ],
   "source": [
    "\n",
    "smis = list(grammar_1.mol_lookup)\n",
    "# winner, rankings = swiss_tournament(smis, num_rounds=4)\n",
    "cache_path = f\"data/api_mol_hg/{dataset}-swiss.pkl\"\n",
    "winner, rankings = swiss_tournament(smis, num_rounds=4, cache=cache_path)\n"
   ]
  },
  {
   "cell_type": "code",
   "execution_count": 13,
   "metadata": {},
   "outputs": [
    {
     "data": {
      "text/plain": [
       "defaultdict(int, {5: 3, 2: 3, 1: 5, 0: 3, 9: 2, 4: 3, 8: 6, 6: 5, 3: 2})"
      ]
     },
     "execution_count": 13,
     "metadata": {},
     "output_type": "execute_result"
    }
   ],
   "source": [
    "winner_count = defaultdict(int)\n",
    "for smi in winner:\n",
    "    winner_count[winner[smi]] += 1\n",
    "winner_count\n",
    "\n",
    "# pickle.dump((winner, rankings), open('/home/msun415/winner_and_rankings_tmp.pkl', 'wb+'))\n",
    "# winner, rankings = pickle.load(open('/home/msun415/winner_and_rankings_tmp.pkl', 'rb'))\n",
    "\n",
    "# bad_smiles = 'Cc1c(-c2c3nc4c(nc3c(-c3c(C)cc(-c5ccc6-c7ccccc7C(C)(C)c6c5)s3)s2)-c2cccc3cccc-4c23)scc1'\n",
    "# bad_smiles in grammar_1.rule_idx_lookup\n"
   ]
  },
  {
   "cell_type": "code",
   "execution_count": null,
   "metadata": {},
   "outputs": [],
   "source": [
    "\n",
    "check = []\n",
    "orig_smiles = open('data/api_mol_hg/hopv_smiles.txt').readlines()\n",
    "# print(len(orig_smiles))\n",
    "orig_smi_set = set()\n",
    "for orig_smi, smi in zip(orig_smiles, smis):\n",
    "    mol = Chem.MolFromSmiles(orig_smi)\n",
    "    Chem.Kekulize(mol)\n",
    "    orig_smi_set.add(Chem.MolToSmiles(mol))\n",
    "print(orig_smi_set.difference(set(smis)))\n",
    "print(set(smis).difference(orig_smi_set))"
   ]
  },
  {
   "cell_type": "code",
   "execution_count": 15,
   "metadata": {},
   "outputs": [
    {
     "name": "stderr",
     "output_type": "stream",
     "text": [
      "combining rule sets: 100%|██████████| 32/32 [00:01<00:00, 17.54it/s]\n",
      "combining rule sets: 100%|██████████| 32/32 [00:03<00:00,  9.37it/s]\n",
      "combining rule sets: 100%|██████████| 32/32 [00:05<00:00,  6.02it/s]\n",
      "combining rule sets: 100%|██████████| 32/32 [00:07<00:00,  4.54it/s]\n",
      "combining rule sets: 100%|██████████| 32/32 [00:08<00:00,  3.62it/s]\n",
      "combining rule sets: 100%|██████████| 32/32 [00:10<00:00,  2.94it/s]\n",
      "combining rule sets: 100%|██████████| 32/32 [00:12<00:00,  2.51it/s]\n",
      "combining rule sets: 100%|██████████| 32/32 [00:14<00:00,  2.19it/s]\n",
      "combining rule sets: 100%|██████████| 32/32 [00:16<00:00,  1.96it/s]\n",
      "combining rule sets: 100%|██████████| 32/32 [00:18<00:00,  1.76it/s]\n",
      "k: 100%|██████████| 10/10 [01:39<00:00,  9.94s/it]\n"
     ]
    }
   ],
   "source": [
    "for k in tqdm(range(1,num_seeds+1), \"k\"):\n",
    "    G_pool = None\n",
    "    trees_pool = defaultdict(list)\n",
    "    for smi in tqdm(smis, \"combining rule sets\"):\n",
    "        for i in range(k):\n",
    "            r = rankings[smi][i]\n",
    "            winner_g = locals()[f'grammar_{r+1}']\n",
    "            winner_trees = locals()[f'trees_{r+1}']\n",
    "            tree_index = list(winner_g.mol_lookup).index(smi)\n",
    "            winner_tree = winner_trees[tree_index]\n",
    "            trees_pool[smi] += [winner_tree]\n",
    "            rule = winner_g.mol_lookup[smi]\n",
    "            mol = Chem.MolFromSmiles(smi)\n",
    "            g = Grammar(mol, rule)\n",
    "            Grammar._init_mol_lookup(g)\n",
    "            if G_pool is None:\n",
    "                G_pool = g\n",
    "            else:\n",
    "                G_pool.combine(g)\n",
    "    grammar_inference(G_pool, trees_pool)\n",
    "    pickle.dump(G_pool, open(f'/home/msun415/induction/data/api_mol_hg/grammar-{dataset}-swiss-pool-{k}.pkl', 'wb+'))"
   ]
  },
  {
   "cell_type": "code",
   "execution_count": 17,
   "metadata": {},
   "outputs": [
    {
     "data": {
      "text/plain": [
       "'acrylates'"
      ]
     },
     "execution_count": 17,
     "metadata": {},
     "output_type": "execute_result"
    }
   ],
   "source": [
    "dataset\n"
   ]
  },
  {
   "cell_type": "code",
   "execution_count": null,
   "metadata": {},
   "outputs": [],
   "source": [
    "import moses\n",
    "\n",
    "dataset = 'polymers_117'\n",
    "seed = 1\n",
    "gen_smiles = open(f'/home/msun415/induction/data/api_mol_hg/smiles-{dataset}-{seed}-more-specific.txt').readlines()\n",
    "test_smiles = open(f'/home/msun415/induction/data/api_mol_hg/polymers_117_test_smiles.txt').readlines()\n",
    "train_smiles = open(f'/home/msun415/induction/data/api_mol_hg/polymers_117_train_smiles.txt').readlines()\n",
    "# moses.get_all_metrics(gen_smiles[:10000], test=test_smiles, n_jobs=50)"
   ]
  },
  {
   "cell_type": "code",
   "execution_count": null,
   "metadata": {},
   "outputs": [],
   "source": [
    "from rdkit.Chem import Descriptors\n",
    "from rdkit.Chem.QED import qed\n",
    "from moses.metrics.SA_Score import sascorer\n",
    "def logP(mol):\n",
    "    return Chem.Crippen.MolLogP(mol)\n",
    "def SA(mol):\n",
    "    return sascorer.calculateScore(mol)\n",
    "def QED(mol):\n",
    "    return qed(mol)\n",
    "def weight(mol):\n",
    "    return Descriptors.MolWt(mol)\n",
    "def features(mol):\n",
    "    return [logP(mol), SA(mol), QED(mol), weight(mol)]\n",
    "\n",
    "import multiprocessing as mp\n",
    "def fitting(gen_smiles, train_smiles, num_clusters=10000):\n",
    "    with mp.Pool(100) as p:\n",
    "        gen_feats = p.map(features, [Chem.MolFromSmiles(smi) for smi in tqdm(gen_smiles)])\n",
    "    with mp.Pool(100) as p:\n",
    "        train_feats = p.map(features, [Chem.MolFromSmiles(smi) for smi in tqdm(train_smiles)])\n",
    "    from sklearn.cluster import KMeans\n",
    "    print(\"fit start\")\n",
    "    kmeans = KMeans(n_clusters=num_clusters, random_state=42, verbose=1, n_init=1).fit(train_feats)\n",
    "    centroids = kmeans.cluster_centers_\n",
    "    print(\"fit finish\")\n",
    "    cluster_assignments = kmeans.predict(gen_feats)\n",
    "    clusters = [set() for _ in range(num_clusters)]\n",
    "    for i in range(len(gen_feats)):\n",
    "        clusters[cluster_assignments[i]].add(i)\n",
    "    train_cluster_assignments = kmeans.predict(train_feats)\n",
    "    print(\"predict finish\")\n",
    "    print(\"train\", train_cluster_assignments)\n",
    "    print(\"gen\", cluster_assignments)\n",
    "    final_samples = []\n",
    "    counts = defaultdict(int)\n",
    "    for i in range(num_clusters):        \n",
    "        order = sorted(range(num_clusters), key=lambda j:np.linalg.norm(centroids[j]-centroids[i]))\n",
    "        assert order[0] == i\n",
    "        for ci, c in enumerate(order):\n",
    "            if len(clusters[c]):\n",
    "                sample = random.choice(list(clusters[c]))\n",
    "                clusters[c].remove(sample)\n",
    "                counts[ci] += 1\n",
    "                break\n",
    "        final_samples.append(sample)\n",
    "    # print(f\"{len(final_samples)} equal mass samples\")\n",
    "    print(f\"{counts[0]} equal mass samples\")\n",
    "    return np.array(final_samples)\n",
    "\n",
    "fitted = fitting(gen_smiles, train_smiles, 10000)"
   ]
  },
  {
   "cell_type": "code",
   "execution_count": null,
   "metadata": {},
   "outputs": [],
   "source": [
    "moses.get_all_metrics(gen_smiles[:10000], test=test_smiles, n_jobs=50)"
   ]
  },
  {
   "cell_type": "code",
   "execution_count": 37,
   "metadata": {},
   "outputs": [
    {
     "ename": "FileNotFoundError",
     "evalue": "[Errno 2] No such file or directory: 'data/api_mol_hg/grammar-acrylates-1-more-specific.pkl'",
     "output_type": "error",
     "traceback": [
      "\u001b[0;31m---------------------------------------------------------------------------\u001b[0m",
      "\u001b[0;31mFileNotFoundError\u001b[0m                         Traceback (most recent call last)",
      "\u001b[0;32m/tmp/ipykernel_1351314/3010745449.py\u001b[0m in \u001b[0;36m<module>\u001b[0;34m\u001b[0m\n\u001b[1;32m      1\u001b[0m \u001b[0mdataset\u001b[0m \u001b[0;34m=\u001b[0m \u001b[0;34m'acrylates'\u001b[0m\u001b[0;34m\u001b[0m\u001b[0;34m\u001b[0m\u001b[0m\n\u001b[0;32m----> 2\u001b[0;31m \u001b[0mG\u001b[0m\u001b[0;34m,\u001b[0m \u001b[0m_\u001b[0m \u001b[0;34m=\u001b[0m \u001b[0mpickle\u001b[0m\u001b[0;34m.\u001b[0m\u001b[0mload\u001b[0m\u001b[0;34m(\u001b[0m\u001b[0mopen\u001b[0m\u001b[0;34m(\u001b[0m\u001b[0;34mf'data/api_mol_hg/grammar-{dataset}-1-more-specific.pkl'\u001b[0m\u001b[0;34m,\u001b[0m\u001b[0;34m'rb'\u001b[0m\u001b[0;34m)\u001b[0m\u001b[0;34m)\u001b[0m\u001b[0;34m\u001b[0m\u001b[0;34m\u001b[0m\u001b[0m\n\u001b[0m\u001b[1;32m      3\u001b[0m \u001b[0mlen\u001b[0m\u001b[0;34m(\u001b[0m\u001b[0mG\u001b[0m\u001b[0;34m.\u001b[0m\u001b[0mfolder_lookup\u001b[0m\u001b[0;34m)\u001b[0m\u001b[0;34m\u001b[0m\u001b[0;34m\u001b[0m\u001b[0m\n",
      "\u001b[0;31mFileNotFoundError\u001b[0m: [Errno 2] No such file or directory: 'data/api_mol_hg/grammar-acrylates-1-more-specific.pkl'"
     ]
    }
   ],
   "source": [
    "debug_smiles_list = []\n",
    "dataset = 'acrylates'\n",
    "G = pickle.load(open(f'data/api_mol_hg/grammar-{dataset}-2-more-specific.pkl','rb'))\n",
    "# folders = ['.2498708','.7247128','.9170787','.164053','.4041026','.0848994','.337852','.0067797','.9718816']\n",
    "# # folders = ['.7506363','.8882577','.3260689','.0348148','.9410613','.2453573','.2190194','.1925354','.192024','.2320652']\n",
    "# inv_lookup = dict(zip(G.folder_lookup.values(), G.folder_lookup.keys()))\n",
    "# for f in folders:\n",
    "#     key = None\n",
    "#     for k in inv_lookup: \n",
    "#         if f in k:\n",
    "#             if key:\n",
    "#                 print(\"BAD\")\n",
    "#             key = k\n",
    "#     print(f, inv_lookup[key])\n",
    "#     debug_smiles_list.append(inv_lookup[key])\n",
    "\n",
    "\n",
    "# # for l in open('data/api_mol_hg/hopv_smiles.txt').readlines():\n",
    "# #     mol = Chem.MolFromSmiles(l)\n",
    "# #     Chem.Kekulize(mol)\n",
    "# #     smi = Chem.MolToSmiles(mol)\n",
    "# #     assert smi in debug_smiles_list\n",
    "# # '.2320652' in G.folder_lookup['COP(=O)(OC)OC=C(Cl)Cl']\n",
    "# choice = np.random.choice(list(G.folder_lookup))\n",
    "# assert choice not in debug_smiles_list\n",
    "# debug_smiles_list += [choice]\n",
    "# print(debug_smiles_list)\n"
   ]
  },
  {
   "cell_type": "markdown",
   "metadata": {},
   "source": []
  },
  {
   "cell_type": "code",
   "execution_count": 38,
   "metadata": {},
   "outputs": [
    {
     "name": "stdout",
     "output_type": "stream",
     "text": [
      "zip -r acrylates-v2.zip data/api_mol_hg/learn-1727669880.4219725/ data/api_mol_hg/learn-1727669880.3830857/ data/api_mol_hg/learn-1727669880.3622139/ data/api_mol_hg/learn-1727669880.3367827/ data/api_mol_hg/learn-1727669880.3893342/ data/api_mol_hg/learn-1727669880.336394/ data/api_mol_hg/learn-1727669880.3463023/ data/api_mol_hg/learn-1727669880.477477/ data/api_mol_hg/learn-1727669880.3769083/ data/api_mol_hg/learn-1727669880.3924432/ data/api_mol_hg/learn-1727669880.3999493/ data/api_mol_hg/learn-1727669880.5153215/ data/api_mol_hg/learn-1727669880.6917126/ data/api_mol_hg/learn-1727669880.3461587/ data/api_mol_hg/learn-1727669880.4347937/ data/api_mol_hg/learn-1727669880.3684032/ data/api_mol_hg/learn-1727669881.1695876/ data/api_mol_hg/learn-1727669880.40716/ data/api_mol_hg/learn-1727669880.7067451/ data/api_mol_hg/learn-1727669880.4302037/ data/api_mol_hg/learn-1727669880.4339452/ data/api_mol_hg/learn-1727669880.3369312/ data/api_mol_hg/learn-1727669880.4178104/ data/api_mol_hg/learn-1727669880.3626494/ data/api_mol_hg/learn-1727669880.4311736/ data/api_mol_hg/learn-1727669880.411836/ data/api_mol_hg/learn-1727669880.3898098/ data/api_mol_hg/learn-1727669880.59853/ data/api_mol_hg/learn-1727669880.5046532/ data/api_mol_hg/learn-1727669880.3634343/ data/api_mol_hg/learn-1727669880.4081383/ data/api_mol_hg/learn-1727669880.5193276/ data/api_mol_hg-acrylates-2-more-specific.log\n"
     ]
    }
   ],
   "source": [
    "print('zip -r acrylates-v2.zip ' + ' '.join(G.folder_lookup.values()) + ' data/api_mol_hg-acrylates-2-more-specific.log')"
   ]
  },
  {
   "cell_type": "code",
   "execution_count": null,
   "metadata": {},
   "outputs": [
    {
     "ename": "FileNotFoundError",
     "evalue": "[Errno 2] No such file or directory: '/home/msun415/induction/data/api_mol_hg/metrics-for-smiles-hopv-swiss-pool-2.json'",
     "output_type": "error",
     "traceback": [
      "\u001b[0;31m---------------------------------------------------------------------------\u001b[0m",
      "\u001b[0;31mFileNotFoundError\u001b[0m                         Traceback (most recent call last)",
      "\u001b[0;32m/tmp/ipykernel_2756460/3901829101.py\u001b[0m in \u001b[0;36m<module>\u001b[0;34m\u001b[0m\n\u001b[1;32m     25\u001b[0m             \u001b[0;32melse\u001b[0m\u001b[0;34m:\u001b[0m\u001b[0;34m\u001b[0m\u001b[0;34m\u001b[0m\u001b[0m\n\u001b[1;32m     26\u001b[0m                 \u001b[0mseedstr\u001b[0m \u001b[0;34m=\u001b[0m \u001b[0;34mf\"swiss-pool-{k}\"\u001b[0m \u001b[0;32mif\u001b[0m \u001b[0mi\u001b[0m \u001b[0;34m==\u001b[0m \u001b[0;36m0\u001b[0m \u001b[0;32melse\u001b[0m \u001b[0;34mf\"1-{k}-all\"\u001b[0m\u001b[0;34m\u001b[0m\u001b[0;34m\u001b[0m\u001b[0m\n\u001b[0;32m---> 27\u001b[0;31m             \u001b[0mres\u001b[0m \u001b[0;34m=\u001b[0m \u001b[0mjson\u001b[0m\u001b[0;34m.\u001b[0m\u001b[0mload\u001b[0m\u001b[0;34m(\u001b[0m\u001b[0mopen\u001b[0m\u001b[0;34m(\u001b[0m\u001b[0;34mf'/home/msun415/induction/data/api_mol_hg/metrics-for-smiles-{dataset}-{seedstr}.json'\u001b[0m\u001b[0;34m)\u001b[0m\u001b[0;34m)\u001b[0m\u001b[0;34m\u001b[0m\u001b[0;34m\u001b[0m\u001b[0m\n\u001b[0m\u001b[1;32m     28\u001b[0m             \u001b[0;32mif\u001b[0m \u001b[0mdataset\u001b[0m \u001b[0;34m==\u001b[0m \u001b[0;34m'chain_extenders'\u001b[0m\u001b[0;34m:\u001b[0m\u001b[0;34m\u001b[0m\u001b[0;34m\u001b[0m\u001b[0m\n\u001b[1;32m     29\u001b[0m                 \u001b[0msmis\u001b[0m \u001b[0;34m=\u001b[0m \u001b[0mopen\u001b[0m\u001b[0;34m(\u001b[0m\u001b[0;34mf'/home/msun415/induction/data/api_mol_hg/smiles-{dataset}-{seedstr}.txt'\u001b[0m\u001b[0;34m)\u001b[0m\u001b[0;34m.\u001b[0m\u001b[0mreadlines\u001b[0m\u001b[0;34m(\u001b[0m\u001b[0;34m)\u001b[0m\u001b[0;34m\u001b[0m\u001b[0;34m\u001b[0m\u001b[0m\n",
      "\u001b[0;31mFileNotFoundError\u001b[0m: [Errno 2] No such file or directory: '/home/msun415/induction/data/api_mol_hg/metrics-for-smiles-hopv-swiss-pool-2.json'"
     ]
    },
    {
     "data": {
      "image/png": "[encoded data removed]",
      "text/plain": [
       "<Figure size 1000x500 with 5 Axes>"
      ]
     },
     "metadata": {},
     "output_type": "display_data"
    }
   ],
   "source": [
    "def check_chain_extender(smis):\n",
    "    # Define SMARTS patterns for various chain extenders\n",
    "    members = 0\n",
    "    for smi in smis:\n",
    "        mol = Chem.MolFromSmiles(smi)\n",
    "        members += mol.HasSubstructMatch(Chem.MolFromSmiles(\"CO\")) or mol.HasSubstructMatch(Chem.MolFromSmiles(\"CN\"))\n",
    "    return members/len(smis)\n",
    "\n",
    "\n",
    "start = [1,1,1,2,2]\n",
    "num_seeds = [10,10,10,5,5]\n",
    "start_dataset = 0\n",
    "num_datasets = 5\n",
    "fig, axes = plt.subplots(1,num_datasets,figsize=(10,5))\n",
    "for j in range(start_dataset,num_datasets):\n",
    "    dataset = ['isocyanates','acrylates','chain_extenders','hopv','ptc'][j]\n",
    "    titles = ['Isocyanates','Acrylates','Chain Extenders','HOPV','PTC']\n",
    "    ax = axes[j]\n",
    "    for i in range(2):\n",
    "        memb, rs, novelty, unique, diversity = [], [], [], [], []    \n",
    "        setting = \"Top k\" if i == 0 else \"1-k\"\n",
    "        for k in range(start[j],num_seeds[j]+1):\n",
    "            if k == 1 and i == 1:\n",
    "                seedstr = \"1-more-specific\"\n",
    "            else:\n",
    "                seedstr = f\"swiss-pool-{k}\" if i == 0 else f\"1-{k}-all\"\n",
    "            res = json.load(open(f'/home/msun415/induction/data/api_mol_hg/metrics-for-smiles-{dataset}-{seedstr}.json'))\n",
    "            if dataset == 'chain_extenders':\n",
    "                smis = open(f'/home/msun415/induction/data/api_mol_hg/smiles-{dataset}-{seedstr}.txt').readlines()\n",
    "                res['membership'] = check_chain_extender(smis)            \n",
    "                \n",
    "            memb.append(res['membership'])\n",
    "            rs.append(res['RS'])\n",
    "            novelty.append(res['novelty'])\n",
    "            unique.append(res['unique'])\n",
    "            diversity.append(res['diversity'])\n",
    "        ax.set_xticks(range(start[j],num_seeds[j]+1))\n",
    "        ax.plot(range(start[j],num_seeds[j]+1), memb, label=f'{setting} memb.', linestyle='--' if i==1 else '-', c='blue')\n",
    "        ax.plot(range(start[j],num_seeds[j]+1), rs, label=f'{setting} RS', linestyle='--' if i==1 else '-', c='red')\n",
    "        # ax.plot(range(1,num_seeds+1), novelty, label=f'{setting} novelty')\n",
    "        # ax.plot(range(1,num_seeds+1), unique, label=f'{setting} unique')\n",
    "        ax.plot(range(start[j],num_seeds[j]+1), diversity, label=f'{setting} diversity', linestyle='--' if i==1 else '-', c='green')\n",
    "        if j == 2:\n",
    "            ax.legend(loc='best')\n",
    "        ax.autoscale()\n",
    "        ax.set_title(titles[j])\n",
    "        ax.set_xlabel(\"k\")\n",
    "fig.savefig('ablation.pdf', bbox_layout='tight')"
   ]
  },
  {
   "cell_type": "code",
   "execution_count": null,
   "metadata": {},
   "outputs": [],
   "source": []
  },
  {
   "cell_type": "code",
   "execution_count": 4,
   "metadata": {},
   "outputs": [
    {
     "data": {
      "text/plain": [
       "1.0"
      ]
     },
     "execution_count": 4,
     "metadata": {},
     "output_type": "execute_result"
    }
   ],
   "source": [
    "def check_chain_extender(smis):\n",
    "    # Define SMARTS patterns for various chain extenders\n",
    "    members = 0\n",
    "    for smi in smis:\n",
    "        mol = Chem.MolFromSmiles(smi)\n",
    "        mol.SubstructMatches(Chem.MolFromSmiles(\"CO\"))\n",
    "        members += match\n",
    "    return members/len(smis)\n",
    "\n",
    "\n",
    "def check_hopv(smis):\n",
    "    thio = Chem.MolFromSmiles('[cH:1]1[cH:2][cH:3][cH:4][s:5]1') # thiophene\n",
    "    members = 0\n",
    "    for smi in smis:\n",
    "        mol = Chem.MolFromSmiles(smi)\n",
    "        if mol is None:\n",
    "            continue\n",
    "        members += bool(mol.GetSubstructMatches(thio))\n",
    "    return members/len(smis)\n",
    "\n",
    "\n",
    "def check_acrylate(smis):\n",
    "    # Define the SMARTS pattern for the Isocyanate group (-N=C=O)\n",
    "    acrylate_smarts = 'C=CC(=O)O'\n",
    "    acrylate_pattern = Chem.MolFromSmarts(acrylate_smarts)\n",
    "    members = 0\n",
    "    for smi in smis:\n",
    "        mol = Chem.MolFromSmiles(smi)\n",
    "        members += mol.HasSubstructMatch(acrylate_pattern)    \n",
    "    return members/len(smis)\n",
    "\n",
    "\n",
    "\n",
    "smis = open('/home/msun415/test.txt').readlines()\n",
    "check_acrylate(smis)"
   ]
  },
  {
   "cell_type": "code",
   "execution_count": 10,
   "metadata": {},
   "outputs": [
    {
     "name": "stdout",
     "output_type": "stream",
     "text": [
      "2951 2950\n",
      "False\n"
     ]
    },
    {
     "data": {
      "text/plain": [
       "(28158, 28158)"
      ]
     },
     "execution_count": 10,
     "metadata": {},
     "output_type": "execute_result"
    }
   ],
   "source": [
    "dataset = 'hopv'\n",
    "g1 = pickle.load(open(f'/home/msun415/induction/data/api_mol_hg/grammar-{dataset}-swiss-pool-5.pkl', 'rb'))\n",
    "g2 = pickle.load(open(f'/home/msun415/induction/data/api_mol_hg/grammar-{dataset}-1-5-all.pkl', 'rb'))\n",
    "print(len(g1.hrg.rules), len(g2.hrg.rules))\n",
    "rules1 = g1.hrg.rules\n",
    "rules2 = g2.hrg.rules\n",
    "\n",
    "rule_multiset1 = [rule.rhs.visualize(path='', return_g=True) for rule in rules1]\n",
    "rule_multiset2 = [rule.rhs.visualize(path='', return_g=True) for rule in rules2]\n",
    "print(compare(deepcopy(rule_multiset1), deepcopy(rule_multiset2)))\n",
    "\n",
    "\n",
    "sum(g1.hrg.counts), sum(g2.hrg.counts)"
   ]
  },
  {
   "cell_type": "code",
   "execution_count": 6,
   "metadata": {},
   "outputs": [
    {
     "name": "stdout",
     "output_type": "stream",
     "text": [
      "2301 2290\n",
      "False\n"
     ]
    },
    {
     "data": {
      "text/plain": [
       "(9399, 9399)"
      ]
     },
     "execution_count": 6,
     "metadata": {},
     "output_type": "execute_result"
    }
   ],
   "source": [
    "dataset='ptc'\n",
    "g1 = pickle.load(open(f'/home/msun415/induction/data/api_mol_hg/grammar-{dataset}-swiss-pool-5.pkl', 'rb'))\n",
    "g2 = pickle.load(open(f'/home/msun415/induction/data/api_mol_hg/grammar-{dataset}-1-5-all.pkl', 'rb'))\n",
    "print(len(g1.hrg.rules), len(g2.hrg.rules))\n",
    "rules1 = g1.hrg.rules\n",
    "rules2 = g2.hrg.rules\n",
    "\n",
    "rule_multiset1 = [rule.rhs.visualize(path='', return_g=True) for rule in rules1]\n",
    "rule_multiset2 = [rule.rhs.visualize(path='', return_g=True) for rule in rules2]\n",
    "print(compare(deepcopy(rule_multiset1), deepcopy(rule_multiset2)))\n",
    "\n",
    "sum(g1.hrg.counts), sum(g2.hrg.counts)"
   ]
  },
  {
   "cell_type": "code",
   "execution_count": 3,
   "metadata": {},
   "outputs": [],
   "source": [
    "for f in glob.glob('/data/api_mol_hg/grammar*.pkl'):\n",
    "    g = pickle.load(open(f, 'rb'))\n",
    "    if isinstance(g, tuple):\n",
    "        g = g[0]\n",
    "    for k, v in g.folder_lookup.items():\n",
    "        if v is None:\n",
    "            continue\n",
    "        if '8830726' in v:\n",
    "            print(k, v, f)"
   ]
  },
  {
   "cell_type": "code",
   "execution_count": null,
   "metadata": {},
   "outputs": [],
   "source": []
  }
 ],
 "metadata": {
  "kernelspec": {
   "display_name": "ckt",
   "language": "python",
   "name": "python3"
  },
  "language_info": {
   "codemirror_mode": {
    "name": "ipython",
    "version": 3
   },
   "file_extension": ".py",
   "mimetype": "text/x-python",
   "name": "python",
   "nbconvert_exporter": "python",
   "pygments_lexer": "ipython3",
   "version": "3.7.16"
  }
 },
 "nbformat": 4,
 "nbformat_minor": 2
}
