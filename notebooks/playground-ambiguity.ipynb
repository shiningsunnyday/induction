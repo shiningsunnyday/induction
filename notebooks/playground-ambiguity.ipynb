{
 "cells": [
  {
   "cell_type": "code",
   "execution_count": 1,
   "metadata": {},
   "outputs": [
    {
     "name": "stderr",
     "output_type": "stream",
     "text": [
      "/home/msun415/miniconda3/envs/ckt/lib/python3.7/site-packages/tqdm/auto.py:21: TqdmWarning: IProgress not found. Please update jupyter and ipywidgets. See https://ipywidgets.readthedocs.io/en/stable/user_install.html\n",
      "  from .autonotebook import tqdm as notebook_tqdm\n"
     ]
    }
   ],
   "source": [
    "import os\n",
    "import sys\n",
    "os.chdir('/home/msun415/induction/')\n",
    "import pickle\n",
    "from src.config import METHOD, DATASET, GRAMMAR\n",
    "import importlib\n",
    "from src.examples import *\n",
    "from src.draw.color import to_hex, CMAP\n",
    "from src.draw.graph import draw_graph\n",
    "from src.config import RADIUS\n",
    "from argparse import ArgumentParser\n",
    "import pickle\n",
    "from src.grammar.common import get_args\n",
    "from src.grammar.ednce import *\n",
    "from src.draw.graph import *\n",
    "from src.api.get_motifs import *\n",
    "from src.algo.utils import *\n",
    "from src.algo.common import *\n",
    "from src.grammar.common import *\n",
    "from src.grammar.utils import *\n",
    "from src.algo.ednce import terminate, dfs\n",
    "from src.model import graph_regression, transformer_regression\n",
    "from argparse import ArgumentParser\n",
    "from networkx.algorithms.isomorphism import DiGraphMatcher\n",
    "import pdb"
   ]
  },
  {
   "cell_type": "code",
   "execution_count": 2,
   "metadata": {},
   "outputs": [],
   "source": [
    "def load_data(args):\n",
    "    if DATASET == \"cora\":\n",
    "        g = load_cora()\n",
    "    elif DATASET == \"test\":\n",
    "        g = create_test_graph(1)\n",
    "    elif DATASET == \"debug\":\n",
    "        g = debug()\n",
    "    elif DATASET == \"house\":\n",
    "        g = create_house_graph()\n",
    "    elif DATASET == \"ckt\":\n",
    "        g = load_ckt(4500)\n",
    "    elif DATASET == \"mol\":\n",
    "        g = read_file(\n",
    "            f\"data/api_mol_hg/{args.dataset}_smiles.txt\"\n",
    "        )\n",
    "    else:\n",
    "        raise NotImplementedError\n",
    "    return g\n",
    "    \n",
    "def get_args():\n",
    "    parser = ArgumentParser()\n",
    "    # global args\n",
    "    parser.add_argument(\"--visualize\", dest=\"global_visualize\", action='store_true')\n",
    "    parser.add_argument(\"--cache\", dest=\"global_cache\", action='store_true')    \n",
    "    parser.add_argument(\"--num_threads\", dest=\"global_num_threads\", type=int)\n",
    "    parser.add_argument(\"--num_procs\", dest=\"global_num_procs\", type=int)    \n",
    "    # hparams\n",
    "    parser.add_argument(\"--scheme\", choices=['one','zero'], help='whether to index from 0 or 1', default='zero')\n",
    "    # ablations\n",
    "    parser.add_argument(\"--ablate_tree\", action='store_true') \n",
    "    parser.add_argument(\"--ablate_merge\", action='store_true') \n",
    "    parser.add_argument(\"--ablate_root\", action='store_true') \n",
    "    # task params\n",
    "    parser.add_argument(\"--task\", nargs='+', choices=[\"learn\",\"generate\",\"prediction\"])\n",
    "    parser.add_argument(\"--seed\")\n",
    "    parser.add_argument(\"--grammar_ckpt\")\n",
    "    parser.add_argument(\n",
    "        \"--dataset\",\n",
    "        choices=[\"ptc\",\"hopv\",\"polymers_117\", \"isocyanates\", \"chain_extenders\", \"acrylates\"],\n",
    "    )\n",
    "    parser.add_argument(\"--num_samples\", default=10000, type=int)\n",
    "    return parser.parse_args([\n",
    "        '--task', 'learn'\n",
    "    ])"
   ]
  },
  {
   "cell_type": "code",
   "execution_count": 14,
   "metadata": {},
   "outputs": [],
   "source": [
    "args = get_args()\n",
    "# g = load_data(args)\n",
    "cache_iter, cache_path = setup()\n",
    "g, grammar, anno, iter = init_grammar(g, cache_iter, cache_path, EDNCEGrammar)\n",
    "# grammar, model, anno, g = terminate(g, grammar, anno, iter)\n",
    "# for j, m in enumerate(model):\n",
    "#     pre = get_prefix(m.id)\n",
    "#     # draw_tree(m, os.path.join(IMG_DIR, f\"model_{iter}_{pre}.png\"))\n",
    "#     model[j] = EDNCEModel(dfs(anno, m.id))"
   ]
  },
  {
   "cell_type": "code",
   "execution_count": 17,
   "metadata": {},
   "outputs": [
    {
     "data": {
      "text/plain": [
       "38"
      ]
     },
     "execution_count": 17,
     "metadata": {},
     "output_type": "execute_result"
    }
   ],
   "source": [
    "iter"
   ]
  },
  {
   "cell_type": "code",
   "execution_count": 4,
   "metadata": {},
   "outputs": [
    {
     "name": "stdout",
     "output_type": "stream",
     "text": [
      "/home/msun415/test.png\n"
     ]
    }
   ],
   "source": [
    "graphs = []\n",
    "for j in range(1):\n",
    "    deriv = model[j].seq[::-1]\n",
    "    deriv = [model[j].graph[n].attrs['rule'] for n in deriv]\n",
    "    t2r = {i:i for i in range(len(grammar.rules))}\n",
    "    deriv_g = grammar.derive(deriv, t2r)\n",
    "    draw_graph(deriv_g, '/home/msun415/test.png')\n",
    "    graphs.append(deriv_g)"
   ]
  },
  {
   "cell_type": "code",
   "execution_count": 8,
   "metadata": {},
   "outputs": [
    {
     "name": "stdout",
     "output_type": "stream",
     "text": [
      "len(interms): 50\n",
      "deriv: []len(interms): 49\n",
      "\n",
      "deriv: []len(interms): 48\n",
      "\n",
      "deriv: []\n"
     ]
    },
    {
     "name": "stderr",
     "output_type": "stream",
     "text": [
      "Process Process-3:\n",
      "Traceback (most recent call last):\n",
      "  File \"/home/msun415/miniconda3/envs/ckt/lib/python3.7/multiprocessing/process.py\", line 297, in _bootstrap\n",
      "    self.run()\n",
      "  File \"/home/msun415/miniconda3/envs/ckt/lib/python3.7/multiprocessing/process.py\", line 99, in run\n",
      "    self._target(*self._args, **self._kwargs)\n",
      "Process Process-4:\n",
      "  File \"/tmp/ipykernel_2000521/3192108507.py\", line 60, in worker\n",
      "    exist = find_partial([graphs[poss]], c_t)\n",
      "Traceback (most recent call last):\n",
      "IndexError: list index out of range\n",
      "  File \"/home/msun415/miniconda3/envs/ckt/lib/python3.7/multiprocessing/process.py\", line 297, in _bootstrap\n",
      "    self.run()\n",
      "  File \"/home/msun415/miniconda3/envs/ckt/lib/python3.7/multiprocessing/process.py\", line 99, in run\n",
      "    self._target(*self._args, **self._kwargs)\n",
      "  File \"/tmp/ipykernel_2000521/3192108507.py\", line 60, in worker\n",
      "    exist = find_partial([graphs[poss]], c_t)\n",
      "IndexError: list index out of range\n"
     ]
    },
    {
     "name": "stdout",
     "output_type": "stream",
     "text": [
      "len(interms): 48\n",
      "deriv: []\n",
      "len(interms): 47\n",
      "deriv: []\n",
      "len(interms): 46\n",
      "deriv: []\n",
      "len(interms): 45\n",
      "deriv: []\n",
      "len(interms): 44\n",
      "deriv: []\n",
      "len(interms): 43\n",
      "deriv: []\n",
      "len(interms): 42\n",
      "deriv: []\n"
     ]
    },
    {
     "name": "stderr",
     "output_type": "stream",
     "text": [
      "Process Process-5:\n"
     ]
    },
    {
     "name": "stdout",
     "output_type": "stream",
     "text": [
      "len(interms): 41"
     ]
    },
    {
     "name": "stderr",
     "output_type": "stream",
     "text": [
      "Process Process-6:\n",
      "Traceback (most recent call last):\n",
      "Process Process-7:\n",
      "Traceback (most recent call last):\n",
      "  File \"/home/msun415/miniconda3/envs/ckt/lib/python3.7/multiprocessing/process.py\", line 297, in _bootstrap\n",
      "    self.run()\n"
     ]
    },
    {
     "name": "stdout",
     "output_type": "stream",
     "text": [
      "\n"
     ]
    },
    {
     "name": "stderr",
     "output_type": "stream",
     "text": [
      "  File \"/home/msun415/miniconda3/envs/ckt/lib/python3.7/multiprocessing/process.py\", line 297, in _bootstrap\n",
      "    self.run()\n",
      "  File \"/home/msun415/miniconda3/envs/ckt/lib/python3.7/multiprocessing/process.py\", line 99, in run\n",
      "    self._target(*self._args, **self._kwargs)\n",
      "Traceback (most recent call last):\n",
      "  File \"/home/msun415/miniconda3/envs/ckt/lib/python3.7/multiprocessing/process.py\", line 99, in run\n",
      "    self._target(*self._args, **self._kwargs)\n"
     ]
    },
    {
     "name": "stdout",
     "output_type": "stream",
     "text": [
      "deriv: []"
     ]
    },
    {
     "name": "stderr",
     "output_type": "stream",
     "text": [
      "  File \"/tmp/ipykernel_2000521/3192108507.py\", line 60, in worker\n",
      "    exist = find_partial([graphs[poss]], c_t)\n",
      "  File \"/home/msun415/miniconda3/envs/ckt/lib/python3.7/multiprocessing/process.py\", line 297, in _bootstrap\n",
      "    self.run()\n",
      "  File \"/tmp/ipykernel_2000521/3192108507.py\", line 60, in worker\n",
      "    exist = find_partial([graphs[poss]], c_t)\n"
     ]
    },
    {
     "name": "stdout",
     "output_type": "stream",
     "text": [
      "\n"
     ]
    },
    {
     "name": "stderr",
     "output_type": "stream",
     "text": [
      "  File \"/home/msun415/miniconda3/envs/ckt/lib/python3.7/multiprocessing/process.py\", line 99, in run\n",
      "    self._target(*self._args, **self._kwargs)\n",
      "IndexError: list index out of range\n",
      "IndexError: list index out of range\n",
      "Process Process-8:\n"
     ]
    },
    {
     "name": "stdout",
     "output_type": "stream",
     "text": [
      "len(interms): 40"
     ]
    },
    {
     "name": "stderr",
     "output_type": "stream",
     "text": [
      "  File \"/tmp/ipykernel_2000521/3192108507.py\", line 60, in worker\n",
      "    exist = find_partial([graphs[poss]], c_t)\n",
      "IndexError: list index out of range\n"
     ]
    },
    {
     "name": "stdout",
     "output_type": "stream",
     "text": [
      "\n"
     ]
    },
    {
     "name": "stderr",
     "output_type": "stream",
     "text": [
      "Process Process-9:\n",
      "Traceback (most recent call last):\n",
      "Traceback (most recent call last):\n",
      "  File \"/home/msun415/miniconda3/envs/ckt/lib/python3.7/multiprocessing/process.py\", line 297, in _bootstrap\n",
      "    self.run()\n"
     ]
    },
    {
     "name": "stdout",
     "output_type": "stream",
     "text": [
      "deriv: []"
     ]
    },
    {
     "name": "stderr",
     "output_type": "stream",
     "text": [
      "  File \"/home/msun415/miniconda3/envs/ckt/lib/python3.7/multiprocessing/process.py\", line 297, in _bootstrap\n",
      "    self.run()\n"
     ]
    },
    {
     "name": "stdout",
     "output_type": "stream",
     "text": [
      "\n"
     ]
    },
    {
     "name": "stderr",
     "output_type": "stream",
     "text": [
      "  File \"/home/msun415/miniconda3/envs/ckt/lib/python3.7/multiprocessing/process.py\", line 99, in run\n",
      "    self._target(*self._args, **self._kwargs)\n",
      "  File \"/home/msun415/miniconda3/envs/ckt/lib/python3.7/multiprocessing/process.py\", line 99, in run\n",
      "    self._target(*self._args, **self._kwargs)\n"
     ]
    },
    {
     "name": "stdout",
     "output_type": "stream",
     "text": [
      "len(interms): 39"
     ]
    },
    {
     "name": "stderr",
     "output_type": "stream",
     "text": [
      "  File \"/tmp/ipykernel_2000521/3192108507.py\", line 60, in worker\n",
      "    exist = find_partial([graphs[poss]], c_t)\n",
      "  File \"/tmp/ipykernel_2000521/3192108507.py\", line 60, in worker\n",
      "    exist = find_partial([graphs[poss]], c_t)\n",
      "Process Process-10:\n",
      "IndexError: list index out of range\n"
     ]
    },
    {
     "name": "stdout",
     "output_type": "stream",
     "text": [
      "\n"
     ]
    },
    {
     "name": "stderr",
     "output_type": "stream",
     "text": [
      "IndexError: list index out of range\n",
      "Traceback (most recent call last):\n",
      "  File \"/home/msun415/miniconda3/envs/ckt/lib/python3.7/multiprocessing/process.py\", line 297, in _bootstrap\n",
      "    self.run()\n"
     ]
    },
    {
     "name": "stdout",
     "output_type": "stream",
     "text": [
      "deriv: []"
     ]
    },
    {
     "name": "stderr",
     "output_type": "stream",
     "text": [
      "  File \"/home/msun415/miniconda3/envs/ckt/lib/python3.7/multiprocessing/process.py\", line 99, in run\n",
      "    self._target(*self._args, **self._kwargs)\n"
     ]
    },
    {
     "name": "stdout",
     "output_type": "stream",
     "text": [
      "\n"
     ]
    },
    {
     "name": "stderr",
     "output_type": "stream",
     "text": [
      "  File \"/tmp/ipykernel_2000521/3192108507.py\", line 60, in worker\n",
      "    exist = find_partial([graphs[poss]], c_t)\n",
      "IndexError: list index out of range\n"
     ]
    },
    {
     "name": "stdout",
     "output_type": "stream",
     "text": [
      "len(interms): 38\n",
      "deriv: []\n",
      "len(interms): 37"
     ]
    },
    {
     "name": "stderr",
     "output_type": "stream",
     "text": [
      "Process Process-11:\n"
     ]
    },
    {
     "name": "stdout",
     "output_type": "stream",
     "text": [
      "\n"
     ]
    },
    {
     "name": "stderr",
     "output_type": "stream",
     "text": [
      "Traceback (most recent call last):\n"
     ]
    },
    {
     "name": "stdout",
     "output_type": "stream",
     "text": [
      "deriv: []"
     ]
    },
    {
     "name": "stderr",
     "output_type": "stream",
     "text": [
      "  File \"/home/msun415/miniconda3/envs/ckt/lib/python3.7/multiprocessing/process.py\", line 297, in _bootstrap\n",
      "    self.run()\n"
     ]
    },
    {
     "name": "stdout",
     "output_type": "stream",
     "text": [
      "\n"
     ]
    },
    {
     "name": "stderr",
     "output_type": "stream",
     "text": [
      "  File \"/home/msun415/miniconda3/envs/ckt/lib/python3.7/multiprocessing/process.py\", line 99, in run\n",
      "    self._target(*self._args, **self._kwargs)\n",
      "  File \"/tmp/ipykernel_2000521/3192108507.py\", line 60, in worker\n",
      "    exist = find_partial([graphs[poss]], c_t)\n",
      "IndexError: list index out of range\n"
     ]
    },
    {
     "name": "stdout",
     "output_type": "stream",
     "text": [
      "len(interms): 36\n",
      "deriv: []\n",
      "len(interms): 35"
     ]
    },
    {
     "name": "stderr",
     "output_type": "stream",
     "text": [
      "Process Process-12:\n"
     ]
    },
    {
     "name": "stdout",
     "output_type": "stream",
     "text": [
      "\n"
     ]
    },
    {
     "name": "stderr",
     "output_type": "stream",
     "text": [
      "Traceback (most recent call last):\n"
     ]
    },
    {
     "name": "stdout",
     "output_type": "stream",
     "text": [
      "deriv: []"
     ]
    },
    {
     "name": "stderr",
     "output_type": "stream",
     "text": [
      "  File \"/home/msun415/miniconda3/envs/ckt/lib/python3.7/multiprocessing/process.py\", line 297, in _bootstrap\n",
      "    self.run()\n"
     ]
    },
    {
     "name": "stdout",
     "output_type": "stream",
     "text": [
      "\n"
     ]
    },
    {
     "name": "stderr",
     "output_type": "stream",
     "text": [
      "Process Process-13:\n",
      "  File \"/home/msun415/miniconda3/envs/ckt/lib/python3.7/multiprocessing/process.py\", line 99, in run\n",
      "    self._target(*self._args, **self._kwargs)\n"
     ]
    },
    {
     "name": "stdout",
     "output_type": "stream",
     "text": [
      "len(interms): 34"
     ]
    },
    {
     "name": "stderr",
     "output_type": "stream",
     "text": [
      "  File \"/tmp/ipykernel_2000521/3192108507.py\", line 60, in worker\n",
      "    exist = find_partial([graphs[poss]], c_t)\n",
      "Traceback (most recent call last):\n",
      "IndexError: list index out of range\n"
     ]
    },
    {
     "name": "stdout",
     "output_type": "stream",
     "text": [
      "\n"
     ]
    },
    {
     "name": "stderr",
     "output_type": "stream",
     "text": [
      "  File \"/home/msun415/miniconda3/envs/ckt/lib/python3.7/multiprocessing/process.py\", line 297, in _bootstrap\n",
      "    self.run()\n"
     ]
    },
    {
     "name": "stdout",
     "output_type": "stream",
     "text": [
      "deriv: []"
     ]
    },
    {
     "name": "stderr",
     "output_type": "stream",
     "text": [
      "  File \"/home/msun415/miniconda3/envs/ckt/lib/python3.7/multiprocessing/process.py\", line 99, in run\n",
      "    self._target(*self._args, **self._kwargs)\n"
     ]
    },
    {
     "name": "stdout",
     "output_type": "stream",
     "text": [
      "\n"
     ]
    },
    {
     "name": "stderr",
     "output_type": "stream",
     "text": [
      "  File \"/tmp/ipykernel_2000521/3192108507.py\", line 60, in worker\n",
      "    exist = find_partial([graphs[poss]], c_t)\n",
      "Process Process-15:\n",
      "IndexError: list index out of range\n",
      "Process Process-14:\n"
     ]
    },
    {
     "name": "stdout",
     "output_type": "stream",
     "text": [
      "len(interms): 33"
     ]
    },
    {
     "name": "stderr",
     "output_type": "stream",
     "text": [
      "Traceback (most recent call last):\n",
      "  File \"/home/msun415/miniconda3/envs/ckt/lib/python3.7/multiprocessing/process.py\", line 297, in _bootstrap\n",
      "    self.run()\n",
      "Process Process-16:\n"
     ]
    },
    {
     "name": "stdout",
     "output_type": "stream",
     "text": [
      "\n"
     ]
    },
    {
     "name": "stderr",
     "output_type": "stream",
     "text": [
      "Traceback (most recent call last):\n",
      "  File \"/home/msun415/miniconda3/envs/ckt/lib/python3.7/multiprocessing/process.py\", line 99, in run\n",
      "    self._target(*self._args, **self._kwargs)\n",
      "  File \"/tmp/ipykernel_2000521/3192108507.py\", line 60, in worker\n",
      "    exist = find_partial([graphs[poss]], c_t)\n",
      "  File \"/home/msun415/miniconda3/envs/ckt/lib/python3.7/multiprocessing/process.py\", line 297, in _bootstrap\n",
      "    self.run()\n",
      "Traceback (most recent call last):\n"
     ]
    },
    {
     "name": "stdout",
     "output_type": "stream",
     "text": [
      "deriv: []"
     ]
    },
    {
     "name": "stderr",
     "output_type": "stream",
     "text": [
      "IndexError: list index out of range\n",
      "  File \"/home/msun415/miniconda3/envs/ckt/lib/python3.7/multiprocessing/process.py\", line 297, in _bootstrap\n",
      "    self.run()\n",
      "  File \"/home/msun415/miniconda3/envs/ckt/lib/python3.7/multiprocessing/process.py\", line 99, in run\n",
      "    self._target(*self._args, **self._kwargs)\n"
     ]
    },
    {
     "name": "stdout",
     "output_type": "stream",
     "text": [
      "\n",
      "len(interms): 32"
     ]
    },
    {
     "name": "stderr",
     "output_type": "stream",
     "text": [
      "  File \"/home/msun415/miniconda3/envs/ckt/lib/python3.7/multiprocessing/process.py\", line 99, in run\n",
      "    self._target(*self._args, **self._kwargs)\n",
      "  File \"/tmp/ipykernel_2000521/3192108507.py\", line 60, in worker\n",
      "    exist = find_partial([graphs[poss]], c_t)\n"
     ]
    },
    {
     "name": "stdout",
     "output_type": "stream",
     "text": [
      "\n"
     ]
    },
    {
     "name": "stderr",
     "output_type": "stream",
     "text": [
      "  File \"/tmp/ipykernel_2000521/3192108507.py\", line 60, in worker\n",
      "    exist = find_partial([graphs[poss]], c_t)\n",
      "IndexError: list index out of range\n",
      "IndexError: list index out of range\n"
     ]
    },
    {
     "name": "stdout",
     "output_type": "stream",
     "text": [
      "deriv: []\n"
     ]
    },
    {
     "name": "stderr",
     "output_type": "stream",
     "text": [
      "Process Process-17:\n"
     ]
    },
    {
     "name": "stdout",
     "output_type": "stream",
     "text": [
      "len(interms): 31"
     ]
    },
    {
     "name": "stderr",
     "output_type": "stream",
     "text": [
      "Traceback (most recent call last):\n"
     ]
    },
    {
     "name": "stdout",
     "output_type": "stream",
     "text": [
      "\n"
     ]
    },
    {
     "name": "stderr",
     "output_type": "stream",
     "text": [
      "  File \"/home/msun415/miniconda3/envs/ckt/lib/python3.7/multiprocessing/process.py\", line 297, in _bootstrap\n",
      "    self.run()\n",
      "  File \"/home/msun415/miniconda3/envs/ckt/lib/python3.7/multiprocessing/process.py\", line 99, in run\n",
      "    self._target(*self._args, **self._kwargs)\n"
     ]
    },
    {
     "name": "stdout",
     "output_type": "stream",
     "text": [
      "deriv: []"
     ]
    },
    {
     "name": "stderr",
     "output_type": "stream",
     "text": [
      "  File \"/tmp/ipykernel_2000521/3192108507.py\", line 60, in worker\n",
      "    exist = find_partial([graphs[poss]], c_t)\n"
     ]
    },
    {
     "name": "stdout",
     "output_type": "stream",
     "text": [
      "\n"
     ]
    },
    {
     "name": "stderr",
     "output_type": "stream",
     "text": [
      "IndexError: list index out of range\n"
     ]
    },
    {
     "name": "stdout",
     "output_type": "stream",
     "text": [
      "len(interms): 30"
     ]
    },
    {
     "name": "stderr",
     "output_type": "stream",
     "text": [
      "Process Process-18:\n"
     ]
    },
    {
     "name": "stdout",
     "output_type": "stream",
     "text": [
      "\n"
     ]
    },
    {
     "name": "stderr",
     "output_type": "stream",
     "text": [
      "Traceback (most recent call last):\n"
     ]
    },
    {
     "name": "stdout",
     "output_type": "stream",
     "text": [
      "deriv: []"
     ]
    },
    {
     "name": "stderr",
     "output_type": "stream",
     "text": [
      "  File \"/home/msun415/miniconda3/envs/ckt/lib/python3.7/multiprocessing/process.py\", line 297, in _bootstrap\n",
      "    self.run()\n"
     ]
    },
    {
     "name": "stdout",
     "output_type": "stream",
     "text": [
      "\n"
     ]
    },
    {
     "name": "stderr",
     "output_type": "stream",
     "text": [
      "  File \"/home/msun415/miniconda3/envs/ckt/lib/python3.7/multiprocessing/process.py\", line 99, in run\n",
      "    self._target(*self._args, **self._kwargs)\n"
     ]
    },
    {
     "name": "stdout",
     "output_type": "stream",
     "text": [
      "len(interms): 29"
     ]
    },
    {
     "name": "stderr",
     "output_type": "stream",
     "text": [
      "  File \"/tmp/ipykernel_2000521/3192108507.py\", line 60, in worker\n",
      "    exist = find_partial([graphs[poss]], c_t)\n",
      "Process Process-19:\n"
     ]
    },
    {
     "name": "stdout",
     "output_type": "stream",
     "text": [
      "\n"
     ]
    },
    {
     "name": "stderr",
     "output_type": "stream",
     "text": [
      "IndexError: list index out of range\n",
      "Traceback (most recent call last):\n",
      "  File \"/home/msun415/miniconda3/envs/ckt/lib/python3.7/multiprocessing/process.py\", line 297, in _bootstrap\n",
      "    self.run()\n"
     ]
    },
    {
     "name": "stdout",
     "output_type": "stream",
     "text": [
      "deriv: []"
     ]
    },
    {
     "name": "stderr",
     "output_type": "stream",
     "text": [
      "  File \"/home/msun415/miniconda3/envs/ckt/lib/python3.7/multiprocessing/process.py\", line 99, in run\n",
      "    self._target(*self._args, **self._kwargs)\n"
     ]
    },
    {
     "name": "stdout",
     "output_type": "stream",
     "text": [
      "\n"
     ]
    },
    {
     "name": "stderr",
     "output_type": "stream",
     "text": [
      "  File \"/tmp/ipykernel_2000521/3192108507.py\", line 60, in worker\n",
      "    exist = find_partial([graphs[poss]], c_t)\n",
      "IndexError: list index out of range\n"
     ]
    },
    {
     "name": "stdout",
     "output_type": "stream",
     "text": [
      "len(interms): 28\n",
      "deriv: []\n"
     ]
    },
    {
     "name": "stderr",
     "output_type": "stream",
     "text": [
      "Process Process-20:\n"
     ]
    },
    {
     "name": "stdout",
     "output_type": "stream",
     "text": [
      "len(interms): 27"
     ]
    },
    {
     "name": "stderr",
     "output_type": "stream",
     "text": [
      "Process Process-21:\n",
      "Traceback (most recent call last):\n"
     ]
    },
    {
     "name": "stdout",
     "output_type": "stream",
     "text": [
      "\n"
     ]
    },
    {
     "name": "stderr",
     "output_type": "stream",
     "text": [
      "  File \"/home/msun415/miniconda3/envs/ckt/lib/python3.7/multiprocessing/process.py\", line 297, in _bootstrap\n",
      "    self.run()\n",
      "Traceback (most recent call last):\n",
      "  File \"/home/msun415/miniconda3/envs/ckt/lib/python3.7/multiprocessing/process.py\", line 99, in run\n",
      "    self._target(*self._args, **self._kwargs)\n"
     ]
    },
    {
     "name": "stdout",
     "output_type": "stream",
     "text": [
      "deriv: []"
     ]
    },
    {
     "name": "stderr",
     "output_type": "stream",
     "text": [
      "  File \"/home/msun415/miniconda3/envs/ckt/lib/python3.7/multiprocessing/process.py\", line 297, in _bootstrap\n",
      "    self.run()\n",
      "  File \"/tmp/ipykernel_2000521/3192108507.py\", line 60, in worker\n",
      "    exist = find_partial([graphs[poss]], c_t)\n"
     ]
    },
    {
     "name": "stdout",
     "output_type": "stream",
     "text": [
      "\n"
     ]
    },
    {
     "name": "stderr",
     "output_type": "stream",
     "text": [
      "  File \"/home/msun415/miniconda3/envs/ckt/lib/python3.7/multiprocessing/process.py\", line 99, in run\n",
      "    self._target(*self._args, **self._kwargs)\n",
      "Process Process-22:\n",
      "IndexError: list index out of range\n"
     ]
    },
    {
     "name": "stdout",
     "output_type": "stream",
     "text": [
      "len(interms): 26"
     ]
    },
    {
     "name": "stderr",
     "output_type": "stream",
     "text": [
      "  File \"/tmp/ipykernel_2000521/3192108507.py\", line 60, in worker\n",
      "    exist = find_partial([graphs[poss]], c_t)\n",
      "Traceback (most recent call last):\n"
     ]
    },
    {
     "name": "stdout",
     "output_type": "stream",
     "text": [
      "\n"
     ]
    },
    {
     "name": "stderr",
     "output_type": "stream",
     "text": [
      "IndexError: list index out of range\n",
      "  File \"/home/msun415/miniconda3/envs/ckt/lib/python3.7/multiprocessing/process.py\", line 297, in _bootstrap\n",
      "    self.run()\n",
      "  File \"/home/msun415/miniconda3/envs/ckt/lib/python3.7/multiprocessing/process.py\", line 99, in run\n",
      "    self._target(*self._args, **self._kwargs)\n"
     ]
    },
    {
     "name": "stdout",
     "output_type": "stream",
     "text": [
      "deriv: []"
     ]
    },
    {
     "name": "stderr",
     "output_type": "stream",
     "text": [
      "  File \"/tmp/ipykernel_2000521/3192108507.py\", line 60, in worker\n",
      "    exist = find_partial([graphs[poss]], c_t)\n"
     ]
    },
    {
     "name": "stdout",
     "output_type": "stream",
     "text": [
      "\n"
     ]
    },
    {
     "name": "stderr",
     "output_type": "stream",
     "text": [
      "IndexError: list index out of range\n",
      "Process Process-23:\n"
     ]
    },
    {
     "name": "stdout",
     "output_type": "stream",
     "text": [
      "len(interms): 25\n"
     ]
    },
    {
     "name": "stderr",
     "output_type": "stream",
     "text": [
      "Traceback (most recent call last):\n",
      "  File \"/home/msun415/miniconda3/envs/ckt/lib/python3.7/multiprocessing/process.py\", line 297, in _bootstrap\n",
      "    self.run()\n"
     ]
    },
    {
     "name": "stdout",
     "output_type": "stream",
     "text": [
      "deriv: []"
     ]
    },
    {
     "name": "stderr",
     "output_type": "stream",
     "text": [
      "  File \"/home/msun415/miniconda3/envs/ckt/lib/python3.7/multiprocessing/process.py\", line 99, in run\n",
      "    self._target(*self._args, **self._kwargs)\n"
     ]
    },
    {
     "name": "stdout",
     "output_type": "stream",
     "text": [
      "\n"
     ]
    },
    {
     "name": "stderr",
     "output_type": "stream",
     "text": [
      "  File \"/tmp/ipykernel_2000521/3192108507.py\", line 60, in worker\n",
      "    exist = find_partial([graphs[poss]], c_t)\n"
     ]
    },
    {
     "name": "stdout",
     "output_type": "stream",
     "text": [
      "len(interms): 24"
     ]
    },
    {
     "name": "stderr",
     "output_type": "stream",
     "text": [
      "IndexError: list index out of range\n",
      "Process Process-24:\n"
     ]
    },
    {
     "name": "stdout",
     "output_type": "stream",
     "text": [
      "\n"
     ]
    },
    {
     "name": "stderr",
     "output_type": "stream",
     "text": [
      "Process Process-25:\n",
      "Traceback (most recent call last):\n"
     ]
    },
    {
     "name": "stdout",
     "output_type": "stream",
     "text": [
      "deriv: []"
     ]
    },
    {
     "name": "stderr",
     "output_type": "stream",
     "text": [
      "Traceback (most recent call last):\n",
      "  File \"/home/msun415/miniconda3/envs/ckt/lib/python3.7/multiprocessing/process.py\", line 297, in _bootstrap\n",
      "    self.run()\n"
     ]
    },
    {
     "name": "stdout",
     "output_type": "stream",
     "text": [
      "\n"
     ]
    },
    {
     "name": "stderr",
     "output_type": "stream",
     "text": [
      "  File \"/home/msun415/miniconda3/envs/ckt/lib/python3.7/multiprocessing/process.py\", line 297, in _bootstrap\n",
      "    self.run()\n",
      "  File \"/home/msun415/miniconda3/envs/ckt/lib/python3.7/multiprocessing/process.py\", line 99, in run\n",
      "    self._target(*self._args, **self._kwargs)\n"
     ]
    },
    {
     "name": "stdout",
     "output_type": "stream",
     "text": [
      "len(interms): 23"
     ]
    },
    {
     "name": "stderr",
     "output_type": "stream",
     "text": [
      "  File \"/home/msun415/miniconda3/envs/ckt/lib/python3.7/multiprocessing/process.py\", line 99, in run\n",
      "    self._target(*self._args, **self._kwargs)\n",
      "  File \"/tmp/ipykernel_2000521/3192108507.py\", line 60, in worker\n",
      "    exist = find_partial([graphs[poss]], c_t)\n",
      "  File \"/tmp/ipykernel_2000521/3192108507.py\", line 60, in worker\n",
      "    exist = find_partial([graphs[poss]], c_t)\n"
     ]
    },
    {
     "name": "stdout",
     "output_type": "stream",
     "text": [
      "\n"
     ]
    },
    {
     "name": "stderr",
     "output_type": "stream",
     "text": [
      "IndexError: list index out of range\n",
      "IndexError: list index out of range\n"
     ]
    },
    {
     "name": "stdout",
     "output_type": "stream",
     "text": [
      "deriv: []\n",
      "len(interms): 22"
     ]
    },
    {
     "name": "stderr",
     "output_type": "stream",
     "text": [
      "Process Process-26:\n"
     ]
    },
    {
     "name": "stdout",
     "output_type": "stream",
     "text": [
      "\n"
     ]
    },
    {
     "name": "stderr",
     "output_type": "stream",
     "text": [
      "Traceback (most recent call last):\n"
     ]
    },
    {
     "name": "stdout",
     "output_type": "stream",
     "text": [
      "deriv: []"
     ]
    },
    {
     "name": "stderr",
     "output_type": "stream",
     "text": [
      "  File \"/home/msun415/miniconda3/envs/ckt/lib/python3.7/multiprocessing/process.py\", line 297, in _bootstrap\n",
      "    self.run()\n",
      "Process Process-27:\n"
     ]
    },
    {
     "name": "stdout",
     "output_type": "stream",
     "text": [
      "\n"
     ]
    },
    {
     "name": "stderr",
     "output_type": "stream",
     "text": [
      "  File \"/home/msun415/miniconda3/envs/ckt/lib/python3.7/multiprocessing/process.py\", line 99, in run\n",
      "    self._target(*self._args, **self._kwargs)\n",
      "  File \"/tmp/ipykernel_2000521/3192108507.py\", line 60, in worker\n",
      "    exist = find_partial([graphs[poss]], c_t)\n",
      "Traceback (most recent call last):\n",
      "IndexError: list index out of range\n",
      "  File \"/home/msun415/miniconda3/envs/ckt/lib/python3.7/multiprocessing/process.py\", line 297, in _bootstrap\n",
      "    self.run()\n",
      "  File \"/home/msun415/miniconda3/envs/ckt/lib/python3.7/multiprocessing/process.py\", line 99, in run\n",
      "    self._target(*self._args, **self._kwargs)\n",
      "  File \"/tmp/ipykernel_2000521/3192108507.py\", line 60, in worker\n",
      "    exist = find_partial([graphs[poss]], c_t)\n",
      "IndexError: list index out of range\n",
      "Process Process-28:\n",
      "Traceback (most recent call last):\n",
      "Process Process-29:\n",
      "  File \"/home/msun415/miniconda3/envs/ckt/lib/python3.7/multiprocessing/process.py\", line 297, in _bootstrap\n",
      "    self.run()\n",
      "  File \"/home/msun415/miniconda3/envs/ckt/lib/python3.7/multiprocessing/process.py\", line 99, in run\n",
      "    self._target(*self._args, **self._kwargs)\n",
      "Traceback (most recent call last):\n",
      "  File \"/home/msun415/miniconda3/envs/ckt/lib/python3.7/multiprocessing/process.py\", line 297, in _bootstrap\n",
      "    self.run()\n",
      "  File \"/tmp/ipykernel_2000521/3192108507.py\", line 60, in worker\n",
      "    exist = find_partial([graphs[poss]], c_t)\n",
      "IndexError: list index out of range\n",
      "  File \"/home/msun415/miniconda3/envs/ckt/lib/python3.7/multiprocessing/process.py\", line 99, in run\n",
      "    self._target(*self._args, **self._kwargs)\n",
      "  File \"/tmp/ipykernel_2000521/3192108507.py\", line 60, in worker\n",
      "    exist = find_partial([graphs[poss]], c_t)\n",
      "IndexError: list index out of range\n",
      "Process Process-30:\n",
      "Traceback (most recent call last):\n",
      "  File \"/home/msun415/miniconda3/envs/ckt/lib/python3.7/multiprocessing/process.py\", line 297, in _bootstrap\n",
      "    self.run()\n",
      "  File \"/home/msun415/miniconda3/envs/ckt/lib/python3.7/multiprocessing/process.py\", line 99, in run\n",
      "    self._target(*self._args, **self._kwargs)\n",
      "  File \"/tmp/ipykernel_2000521/3192108507.py\", line 60, in worker\n",
      "    exist = find_partial([graphs[poss]], c_t)\n",
      "IndexError: list index out of range\n",
      "Process Process-31:\n",
      "Traceback (most recent call last):\n",
      "  File \"/home/msun415/miniconda3/envs/ckt/lib/python3.7/multiprocessing/process.py\", line 297, in _bootstrap\n",
      "    self.run()\n",
      "  File \"/home/msun415/miniconda3/envs/ckt/lib/python3.7/multiprocessing/process.py\", line 99, in run\n",
      "    self._target(*self._args, **self._kwargs)\n",
      "  File \"/tmp/ipykernel_2000521/3192108507.py\", line 60, in worker\n",
      "    exist = find_partial([graphs[poss]], c_t)\n",
      "IndexError: list index out of range\n"
     ]
    },
    {
     "name": "stdout",
     "output_type": "stream",
     "text": [
      "len(interms): 22\n",
      "deriv: []\n",
      "len(interms): 21\n",
      "deriv: []\n",
      "len(interms): 20\n",
      "deriv: []\n",
      "len(interms): 19\n",
      "deriv: []\n",
      "len(interms): 18\n",
      "deriv: []\n"
     ]
    },
    {
     "name": "stderr",
     "output_type": "stream",
     "text": [
      "Process Process-32:\n"
     ]
    },
    {
     "name": "stdout",
     "output_type": "stream",
     "text": [
      "len(interms): 17"
     ]
    },
    {
     "name": "stderr",
     "output_type": "stream",
     "text": [
      "Traceback (most recent call last):\n"
     ]
    },
    {
     "name": "stdout",
     "output_type": "stream",
     "text": [
      "\n"
     ]
    },
    {
     "name": "stderr",
     "output_type": "stream",
     "text": [
      "  File \"/home/msun415/miniconda3/envs/ckt/lib/python3.7/multiprocessing/process.py\", line 297, in _bootstrap\n",
      "    self.run()\n",
      "  File \"/home/msun415/miniconda3/envs/ckt/lib/python3.7/multiprocessing/process.py\", line 99, in run\n",
      "    self._target(*self._args, **self._kwargs)\n"
     ]
    },
    {
     "name": "stdout",
     "output_type": "stream",
     "text": [
      "deriv: []"
     ]
    },
    {
     "name": "stderr",
     "output_type": "stream",
     "text": [
      "Process Process-34:\n",
      "  File \"/tmp/ipykernel_2000521/3192108507.py\", line 60, in worker\n",
      "    exist = find_partial([graphs[poss]], c_t)\n"
     ]
    },
    {
     "name": "stdout",
     "output_type": "stream",
     "text": [
      "\n"
     ]
    },
    {
     "name": "stderr",
     "output_type": "stream",
     "text": [
      "IndexError: list index out of range\n"
     ]
    },
    {
     "name": "stdout",
     "output_type": "stream",
     "text": [
      "len(interms): 16"
     ]
    },
    {
     "name": "stderr",
     "output_type": "stream",
     "text": [
      "Traceback (most recent call last):\n",
      "  File \"/home/msun415/miniconda3/envs/ckt/lib/python3.7/multiprocessing/process.py\", line 297, in _bootstrap\n",
      "    self.run()\n"
     ]
    },
    {
     "name": "stdout",
     "output_type": "stream",
     "text": [
      "\n"
     ]
    },
    {
     "name": "stderr",
     "output_type": "stream",
     "text": [
      "Process Process-33:\n",
      "  File \"/home/msun415/miniconda3/envs/ckt/lib/python3.7/multiprocessing/process.py\", line 99, in run\n",
      "    self._target(*self._args, **self._kwargs)\n",
      "  File \"/tmp/ipykernel_2000521/3192108507.py\", line 60, in worker\n",
      "    exist = find_partial([graphs[poss]], c_t)\n"
     ]
    },
    {
     "name": "stdout",
     "output_type": "stream",
     "text": [
      "deriv: []"
     ]
    },
    {
     "name": "stderr",
     "output_type": "stream",
     "text": [
      "Traceback (most recent call last):\n",
      "IndexError: list index out of range\n"
     ]
    },
    {
     "name": "stdout",
     "output_type": "stream",
     "text": [
      "\n"
     ]
    },
    {
     "name": "stderr",
     "output_type": "stream",
     "text": [
      "  File \"/home/msun415/miniconda3/envs/ckt/lib/python3.7/multiprocessing/process.py\", line 297, in _bootstrap\n",
      "    self.run()\n"
     ]
    },
    {
     "name": "stdout",
     "output_type": "stream",
     "text": [
      "len(interms): 15"
     ]
    },
    {
     "name": "stderr",
     "output_type": "stream",
     "text": [
      "  File \"/home/msun415/miniconda3/envs/ckt/lib/python3.7/multiprocessing/process.py\", line 99, in run\n",
      "    self._target(*self._args, **self._kwargs)\n",
      "  File \"/tmp/ipykernel_2000521/3192108507.py\", line 60, in worker\n",
      "    exist = find_partial([graphs[poss]], c_t)\n"
     ]
    },
    {
     "name": "stdout",
     "output_type": "stream",
     "text": [
      "\n"
     ]
    },
    {
     "name": "stderr",
     "output_type": "stream",
     "text": [
      "Process Process-36:\n",
      "IndexError: list index out of range\n"
     ]
    },
    {
     "name": "stdout",
     "output_type": "stream",
     "text": [
      "deriv: []\n"
     ]
    },
    {
     "name": "stderr",
     "output_type": "stream",
     "text": [
      "Traceback (most recent call last):\n"
     ]
    },
    {
     "name": "stdout",
     "output_type": "stream",
     "text": [
      "len(interms): 14"
     ]
    },
    {
     "name": "stderr",
     "output_type": "stream",
     "text": [
      "  File \"/home/msun415/miniconda3/envs/ckt/lib/python3.7/multiprocessing/process.py\", line 297, in _bootstrap\n",
      "    self.run()\n",
      "  File \"/home/msun415/miniconda3/envs/ckt/lib/python3.7/multiprocessing/process.py\", line 99, in run\n",
      "    self._target(*self._args, **self._kwargs)\n"
     ]
    },
    {
     "name": "stdout",
     "output_type": "stream",
     "text": [
      "\n"
     ]
    },
    {
     "name": "stderr",
     "output_type": "stream",
     "text": [
      "  File \"/tmp/ipykernel_2000521/3192108507.py\", line 60, in worker\n",
      "    exist = find_partial([graphs[poss]], c_t)\n"
     ]
    },
    {
     "name": "stdout",
     "output_type": "stream",
     "text": [
      "deriv: []"
     ]
    },
    {
     "name": "stderr",
     "output_type": "stream",
     "text": [
      "IndexError: list index out of range\n"
     ]
    },
    {
     "name": "stdout",
     "output_type": "stream",
     "text": [
      "\n"
     ]
    },
    {
     "name": "stderr",
     "output_type": "stream",
     "text": [
      "Process Process-37:\n"
     ]
    },
    {
     "name": "stdout",
     "output_type": "stream",
     "text": [
      "len(interms): 13"
     ]
    },
    {
     "name": "stderr",
     "output_type": "stream",
     "text": [
      "Traceback (most recent call last):\n"
     ]
    },
    {
     "name": "stdout",
     "output_type": "stream",
     "text": [
      "\n"
     ]
    },
    {
     "name": "stderr",
     "output_type": "stream",
     "text": [
      "  File \"/home/msun415/miniconda3/envs/ckt/lib/python3.7/multiprocessing/process.py\", line 297, in _bootstrap\n",
      "    self.run()\n"
     ]
    },
    {
     "name": "stdout",
     "output_type": "stream",
     "text": [
      "deriv: []"
     ]
    },
    {
     "name": "stderr",
     "output_type": "stream",
     "text": [
      "  File \"/home/msun415/miniconda3/envs/ckt/lib/python3.7/multiprocessing/process.py\", line 99, in run\n",
      "    self._target(*self._args, **self._kwargs)\n"
     ]
    },
    {
     "name": "stdout",
     "output_type": "stream",
     "text": [
      "\n"
     ]
    },
    {
     "name": "stderr",
     "output_type": "stream",
     "text": [
      "  File \"/tmp/ipykernel_2000521/3192108507.py\", line 60, in worker\n",
      "    exist = find_partial([graphs[poss]], c_t)\n",
      "Process Process-35:\n"
     ]
    },
    {
     "name": "stdout",
     "output_type": "stream",
     "text": [
      "len(interms): 12"
     ]
    },
    {
     "name": "stderr",
     "output_type": "stream",
     "text": [
      "IndexError: list index out of range\n"
     ]
    },
    {
     "name": "stdout",
     "output_type": "stream",
     "text": [
      "\n"
     ]
    },
    {
     "name": "stderr",
     "output_type": "stream",
     "text": [
      "Traceback (most recent call last):\n",
      "  File \"/home/msun415/miniconda3/envs/ckt/lib/python3.7/multiprocessing/process.py\", line 297, in _bootstrap\n",
      "    self.run()\n"
     ]
    },
    {
     "name": "stdout",
     "output_type": "stream",
     "text": [
      "deriv: []"
     ]
    },
    {
     "name": "stderr",
     "output_type": "stream",
     "text": [
      "  File \"/home/msun415/miniconda3/envs/ckt/lib/python3.7/multiprocessing/process.py\", line 99, in run\n",
      "    self._target(*self._args, **self._kwargs)\n"
     ]
    },
    {
     "name": "stdout",
     "output_type": "stream",
     "text": [
      "\n"
     ]
    },
    {
     "name": "stderr",
     "output_type": "stream",
     "text": [
      "  File \"/tmp/ipykernel_2000521/3192108507.py\", line 60, in worker\n",
      "    exist = find_partial([graphs[poss]], c_t)\n"
     ]
    },
    {
     "name": "stdout",
     "output_type": "stream",
     "text": [
      "len(interms): 11"
     ]
    },
    {
     "name": "stderr",
     "output_type": "stream",
     "text": [
      "IndexError: list index out of range\n",
      "Process Process-38:\n"
     ]
    },
    {
     "name": "stdout",
     "output_type": "stream",
     "text": [
      "\n"
     ]
    },
    {
     "name": "stderr",
     "output_type": "stream",
     "text": [
      "Traceback (most recent call last):\n"
     ]
    },
    {
     "name": "stdout",
     "output_type": "stream",
     "text": [
      "deriv: []"
     ]
    },
    {
     "name": "stderr",
     "output_type": "stream",
     "text": [
      "  File \"/home/msun415/miniconda3/envs/ckt/lib/python3.7/multiprocessing/process.py\", line 297, in _bootstrap\n",
      "    self.run()\n"
     ]
    },
    {
     "name": "stdout",
     "output_type": "stream",
     "text": [
      "\n"
     ]
    },
    {
     "name": "stderr",
     "output_type": "stream",
     "text": [
      "  File \"/home/msun415/miniconda3/envs/ckt/lib/python3.7/multiprocessing/process.py\", line 99, in run\n",
      "    self._target(*self._args, **self._kwargs)\n"
     ]
    },
    {
     "name": "stdout",
     "output_type": "stream",
     "text": [
      "len(interms): 10"
     ]
    },
    {
     "name": "stderr",
     "output_type": "stream",
     "text": [
      "  File \"/tmp/ipykernel_2000521/3192108507.py\", line 60, in worker\n",
      "    exist = find_partial([graphs[poss]], c_t)\n",
      "IndexError: list index out of range\n"
     ]
    },
    {
     "name": "stdout",
     "output_type": "stream",
     "text": [
      "\n",
      "deriv: []"
     ]
    },
    {
     "name": "stderr",
     "output_type": "stream",
     "text": [
      "Process Process-39:\n"
     ]
    },
    {
     "name": "stdout",
     "output_type": "stream",
     "text": [
      "\n",
      "len(interms): 9"
     ]
    },
    {
     "name": "stderr",
     "output_type": "stream",
     "text": [
      "Traceback (most recent call last):\n",
      "  File \"/home/msun415/miniconda3/envs/ckt/lib/python3.7/multiprocessing/process.py\", line 297, in _bootstrap\n",
      "    self.run()\n"
     ]
    },
    {
     "name": "stdout",
     "output_type": "stream",
     "text": [
      "\n"
     ]
    },
    {
     "name": "stderr",
     "output_type": "stream",
     "text": [
      "  File \"/home/msun415/miniconda3/envs/ckt/lib/python3.7/multiprocessing/process.py\", line 99, in run\n",
      "    self._target(*self._args, **self._kwargs)\n",
      "  File \"/tmp/ipykernel_2000521/3192108507.py\", line 60, in worker\n",
      "    exist = find_partial([graphs[poss]], c_t)\n"
     ]
    },
    {
     "name": "stdout",
     "output_type": "stream",
     "text": [
      "deriv: []"
     ]
    },
    {
     "name": "stderr",
     "output_type": "stream",
     "text": [
      "IndexError: list index out of range\n",
      "Process Process-40:\n"
     ]
    },
    {
     "name": "stdout",
     "output_type": "stream",
     "text": [
      "\n",
      "len(interms): 8"
     ]
    },
    {
     "name": "stderr",
     "output_type": "stream",
     "text": [
      "Traceback (most recent call last):\n"
     ]
    },
    {
     "name": "stdout",
     "output_type": "stream",
     "text": [
      "\n"
     ]
    },
    {
     "name": "stderr",
     "output_type": "stream",
     "text": [
      "  File \"/home/msun415/miniconda3/envs/ckt/lib/python3.7/multiprocessing/process.py\", line 297, in _bootstrap\n",
      "    self.run()\n",
      "  File \"/home/msun415/miniconda3/envs/ckt/lib/python3.7/multiprocessing/process.py\", line 99, in run\n",
      "    self._target(*self._args, **self._kwargs)\n"
     ]
    },
    {
     "name": "stdout",
     "output_type": "stream",
     "text": [
      "deriv: []"
     ]
    },
    {
     "name": "stderr",
     "output_type": "stream",
     "text": [
      "  File \"/tmp/ipykernel_2000521/3192108507.py\", line 60, in worker\n",
      "    exist = find_partial([graphs[poss]], c_t)\n"
     ]
    },
    {
     "name": "stdout",
     "output_type": "stream",
     "text": [
      "\n"
     ]
    },
    {
     "name": "stderr",
     "output_type": "stream",
     "text": [
      "Process Process-41:\n",
      "IndexError: list index out of range\n"
     ]
    },
    {
     "name": "stdout",
     "output_type": "stream",
     "text": [
      "len(interms): 7"
     ]
    },
    {
     "name": "stderr",
     "output_type": "stream",
     "text": [
      "Traceback (most recent call last):\n"
     ]
    },
    {
     "name": "stdout",
     "output_type": "stream",
     "text": [
      "\n"
     ]
    },
    {
     "name": "stderr",
     "output_type": "stream",
     "text": [
      "Process Process-43:\n",
      "  File \"/home/msun415/miniconda3/envs/ckt/lib/python3.7/multiprocessing/process.py\", line 297, in _bootstrap\n",
      "    self.run()\n"
     ]
    },
    {
     "name": "stdout",
     "output_type": "stream",
     "text": [
      "deriv: []"
     ]
    },
    {
     "name": "stderr",
     "output_type": "stream",
     "text": [
      "  File \"/home/msun415/miniconda3/envs/ckt/lib/python3.7/multiprocessing/process.py\", line 99, in run\n",
      "    self._target(*self._args, **self._kwargs)\n",
      "Traceback (most recent call last):\n"
     ]
    },
    {
     "name": "stdout",
     "output_type": "stream",
     "text": [
      "\n"
     ]
    },
    {
     "name": "stderr",
     "output_type": "stream",
     "text": [
      "  File \"/home/msun415/miniconda3/envs/ckt/lib/python3.7/multiprocessing/process.py\", line 297, in _bootstrap\n",
      "    self.run()\n",
      "  File \"/tmp/ipykernel_2000521/3192108507.py\", line 60, in worker\n",
      "    exist = find_partial([graphs[poss]], c_t)\n",
      "  File \"/home/msun415/miniconda3/envs/ckt/lib/python3.7/multiprocessing/process.py\", line 99, in run\n",
      "    self._target(*self._args, **self._kwargs)\n",
      "IndexError: list index out of range\n",
      "  File \"/tmp/ipykernel_2000521/3192108507.py\", line 60, in worker\n",
      "    exist = find_partial([graphs[poss]], c_t)\n",
      "Process Process-45:\n",
      "IndexError: list index out of range\n",
      "Traceback (most recent call last):\n",
      "  File \"/home/msun415/miniconda3/envs/ckt/lib/python3.7/multiprocessing/process.py\", line 297, in _bootstrap\n",
      "    self.run()\n",
      "  File \"/home/msun415/miniconda3/envs/ckt/lib/python3.7/multiprocessing/process.py\", line 99, in run\n",
      "    self._target(*self._args, **self._kwargs)\n",
      "  File \"/tmp/ipykernel_2000521/3192108507.py\", line 60, in worker\n",
      "    exist = find_partial([graphs[poss]], c_t)\n",
      "IndexError: list index out of range\n",
      "Process Process-44:\n",
      "Process Process-42:\n",
      "Traceback (most recent call last):\n",
      "Traceback (most recent call last):\n",
      "  File \"/home/msun415/miniconda3/envs/ckt/lib/python3.7/multiprocessing/process.py\", line 297, in _bootstrap\n",
      "    self.run()\n",
      "  File \"/home/msun415/miniconda3/envs/ckt/lib/python3.7/multiprocessing/process.py\", line 297, in _bootstrap\n",
      "    self.run()\n",
      "  File \"/home/msun415/miniconda3/envs/ckt/lib/python3.7/multiprocessing/process.py\", line 99, in run\n",
      "    self._target(*self._args, **self._kwargs)\n",
      "  File \"/home/msun415/miniconda3/envs/ckt/lib/python3.7/multiprocessing/process.py\", line 99, in run\n",
      "    self._target(*self._args, **self._kwargs)\n",
      "  File \"/tmp/ipykernel_2000521/3192108507.py\", line 60, in worker\n",
      "    exist = find_partial([graphs[poss]], c_t)\n",
      "  File \"/tmp/ipykernel_2000521/3192108507.py\", line 60, in worker\n",
      "    exist = find_partial([graphs[poss]], c_t)\n",
      "IndexError: list index out of range\n",
      "IndexError: list index out of range\n",
      "Process Process-46:\n",
      "Traceback (most recent call last):\n",
      "  File \"/home/msun415/miniconda3/envs/ckt/lib/python3.7/multiprocessing/process.py\", line 297, in _bootstrap\n",
      "    self.run()\n",
      "  File \"/home/msun415/miniconda3/envs/ckt/lib/python3.7/multiprocessing/process.py\", line 99, in run\n",
      "    self._target(*self._args, **self._kwargs)\n",
      "  File \"/tmp/ipykernel_2000521/3192108507.py\", line 60, in worker\n",
      "    exist = find_partial([graphs[poss]], c_t)\n",
      "IndexError: list index out of range\n",
      "Process Process-48:\n",
      "Traceback (most recent call last):\n",
      "  File \"/home/msun415/miniconda3/envs/ckt/lib/python3.7/multiprocessing/process.py\", line 297, in _bootstrap\n",
      "    self.run()\n",
      "  File \"/home/msun415/miniconda3/envs/ckt/lib/python3.7/multiprocessing/process.py\", line 99, in run\n",
      "    self._target(*self._args, **self._kwargs)\n",
      "  File \"/tmp/ipykernel_2000521/3192108507.py\", line 60, in worker\n",
      "    exist = find_partial([graphs[poss]], c_t)\n",
      "IndexError: list index out of range\n"
     ]
    },
    {
     "name": "stdout",
     "output_type": "stream",
     "text": [
      "len(interms): 6\n",
      "deriv: []\n"
     ]
    },
    {
     "name": "stderr",
     "output_type": "stream",
     "text": [
      "Process Process-50:\n",
      "Traceback (most recent call last):\n",
      "  File \"/home/msun415/miniconda3/envs/ckt/lib/python3.7/multiprocessing/process.py\", line 297, in _bootstrap\n",
      "    self.run()\n",
      "  File \"/home/msun415/miniconda3/envs/ckt/lib/python3.7/multiprocessing/process.py\", line 99, in run\n",
      "    self._target(*self._args, **self._kwargs)\n",
      "  File \"/tmp/ipykernel_2000521/3192108507.py\", line 60, in worker\n",
      "    exist = find_partial([graphs[poss]], c_t)\n",
      "IndexError: list index out of range\n"
     ]
    },
    {
     "name": "stdout",
     "output_type": "stream",
     "text": [
      "len(interms): 5\n",
      "deriv: []\n",
      "len(interms): 4\n",
      "deriv: []\n",
      "len(interms): 3\n",
      "deriv: []\n"
     ]
    },
    {
     "name": "stderr",
     "output_type": "stream",
     "text": [
      "Process Process-51:\n",
      "Traceback (most recent call last):\n",
      "Process Process-47:\n",
      "  File \"/home/msun415/miniconda3/envs/ckt/lib/python3.7/multiprocessing/process.py\", line 297, in _bootstrap\n",
      "    self.run()\n",
      "Traceback (most recent call last):\n",
      "  File \"/home/msun415/miniconda3/envs/ckt/lib/python3.7/multiprocessing/process.py\", line 99, in run\n",
      "    self._target(*self._args, **self._kwargs)\n",
      "  File \"/home/msun415/miniconda3/envs/ckt/lib/python3.7/multiprocessing/process.py\", line 297, in _bootstrap\n",
      "    self.run()\n",
      "  File \"/tmp/ipykernel_2000521/3192108507.py\", line 60, in worker\n",
      "    exist = find_partial([graphs[poss]], c_t)\n",
      "IndexError: list index out of range\n",
      "  File \"/home/msun415/miniconda3/envs/ckt/lib/python3.7/multiprocessing/process.py\", line 99, in run\n",
      "    self._target(*self._args, **self._kwargs)\n",
      "Process Process-49:\n",
      "  File \"/tmp/ipykernel_2000521/3192108507.py\", line 60, in worker\n",
      "    exist = find_partial([graphs[poss]], c_t)\n",
      "IndexError: list index out of range\n",
      "Traceback (most recent call last):\n",
      "  File \"/home/msun415/miniconda3/envs/ckt/lib/python3.7/multiprocessing/process.py\", line 297, in _bootstrap\n",
      "    self.run()\n",
      "  File \"/home/msun415/miniconda3/envs/ckt/lib/python3.7/multiprocessing/process.py\", line 99, in run\n",
      "    self._target(*self._args, **self._kwargs)\n",
      "  File \"/tmp/ipykernel_2000521/3192108507.py\", line 60, in worker\n",
      "    exist = find_partial([graphs[poss]], c_t)\n",
      "IndexError: list index out of range\n"
     ]
    },
    {
     "name": "stdout",
     "output_type": "stream",
     "text": [
      "len(interms): 3\n",
      "deriv: [321]\n"
     ]
    }
   ],
   "source": [
    "def find_indices(graphs, query):\n",
    "    ans = []\n",
    "    for i in range(len(graphs)):\n",
    "        if nx.is_isomorphic(graphs[i], query):\n",
    "            ans.append(i)\n",
    "    return ans\n",
    "\n",
    "\n",
    "def node_match(d1, d2):\n",
    "    return d1.get(\"label\", \"#\") == d2.get(\"label\", \"#\")    \n",
    "\n",
    "\n",
    "def find_partial(graphs, query):\n",
    "    ans = []\n",
    "    # query can be a (possibly disconnected) directed graph\n",
    "    # query_und = nx.Graph(query)\n",
    "    for i in range(len(graphs)):\n",
    "        bad = False\n",
    "        if len(query) > len(graphs[i]):\n",
    "            continue\n",
    "        if len(query.edges) > len(graphs[i].edges):\n",
    "            continue\n",
    "        # for conn in nx.connected_components(query_und):\n",
    "            # conn_g = copy_graph(query, conn)\n",
    "        gm = DiGraphMatcher(graphs[i], query, node_match=node_match)\n",
    "        ism_iter = list(gm.subgraph_isomorphisms_iter())\n",
    "        if len(ism_iter) == 0:\n",
    "            break\n",
    "        if not bad:\n",
    "            ans.append(i)\n",
    "    return ans\n",
    "\n",
    "\n",
    "def worker(shared_queue, found, lock):\n",
    "    while True:\n",
    "        with lock:\n",
    "            if shared_queue.empty():\n",
    "                print(\"process done\")\n",
    "                break\n",
    "            print(f\"len(interms): {shared_queue.qsize()}\")\n",
    "            interm, deriv, poss = shared_queue.get()\n",
    "        print(f\"deriv: {deriv}\")\n",
    "        nts = grammar.search_nts(interm, NONTERMS)\n",
    "        if len(nts) == 0:\n",
    "            if nx.is_isomorphic(interm, graphs[poss], node_match=node_match):\n",
    "                with lock:\n",
    "                    found[poss].append(deriv)\n",
    "                    print(f\"found {deriv} graph {poss}, count: {len(found[poss])}\")\n",
    "        for j, nt in enumerate(nts):\n",
    "            for i, rule in enumerate(grammar.rules):                      \n",
    "                nt_label = interm.nodes[nt]['label']\n",
    "                if rule.nt == nt_label:\n",
    "                    c = deepcopy(interm)\n",
    "                    c = rule(c, nt)\n",
    "                    if nx.is_connected(nx.Graph(c)):\n",
    "                        # if poss == 0 and i == 62:\n",
    "                        #     pdb.set_trace()                     \n",
    "                        ts = [x for x in c if c.nodes[x]['label'] in TERMS]\n",
    "                        c_t = copy_graph(c, ts)\n",
    "                        exist = find_partial([graphs[poss]], c_t)\n",
    "                        if exist:\n",
    "                            with lock:\n",
    "                                shared_queue.put((c, deriv+[i], poss))            \n",
    "\n",
    "\n",
    "NUM_PROCS = 50\n",
    "N = len(graphs)\n",
    "manager = mp.Manager()\n",
    "shared_queue = manager.Queue()\n",
    "found = manager.list()\n",
    "g = nx.DiGraph()\n",
    "g.add_node('0', label='black')\n",
    "for j in range(NUM_PROCS):\n",
    "    shared_queue.put((deepcopy(g), [], j))\n",
    "    found.append(manager.list())\n",
    "lock = manager.Lock()\n",
    "processes = []\n",
    "for _ in range(NUM_PROCS):\n",
    "    p = mp.Process(target=worker, args=(shared_queue, found, lock))\n",
    "    p.start()\n",
    "    processes.append(p)\n",
    "for p in processes:\n",
    "    p.join()"
   ]
  },
  {
   "cell_type": "code",
   "execution_count": null,
   "metadata": {},
   "outputs": [],
   "source": [
    "all_derivs = list(map(list, found))\n",
    "sets_of_sets = []\n",
    "for derivs in all_derivs:\n",
    "    sets = []\n",
    "    for i in range(len(derivs)):\n",
    "        # keep this deriv\n",
    "        for j in range(len(derivs)):\n",
    "            if j == i:\n",
    "                continue\n",
    "            sets.append(set(derivs[j])-set(derivs[i]))\n",
    "    sets_of_sets.append(sets)"
   ]
  },
  {
   "cell_type": "code",
   "execution_count": null,
   "metadata": {},
   "outputs": [],
   "source": [
    "np.argwhere([len(deriv) > 1 for deriv in all_derivs])\n",
    "# [len(deriv) > 1 for deriv in all_derivs]\n",
    "poss_elims = []\n",
    "for chosen in product(*[sets for sets in sets_of_sets if sets]):\n",
    "    elim = set.union(*chosen)\n",
    "    exist = False\n",
    "    for p in poss_elims:\n",
    "        if p == elim:\n",
    "            exist = True\n",
    "            break\n",
    "    if not exist:\n",
    "        poss_elims.append(elim)\n",
    "\n",
    "poss_elims = sorted(poss_elims, key=len)\n",
    "for i in range(len(poss_elims)):\n",
    "    if poss_elims[i] is None:\n",
    "        continue\n",
    "    for j in range(i+1, len(poss_elims)):\n",
    "        if poss_elims[j] is None:\n",
    "            continue\n",
    "        if not (poss_elims[i]-poss_elims[j]):\n",
    "            poss_elims[j] = None\n",
    "\n",
    "min_poss_elims = list(filter(lambda x: x is not None, poss_elims))\n",
    "best_e = None\n",
    "best_counter = None\n",
    "for e in min_poss_elims:\n",
    "    counter = []\n",
    "    for i, derivs in enumerate(all_derivs):\n",
    "        inters = [bool(set(derivs[j]) & e) for j in range(len(derivs))]\n",
    "        if np.all(inters):\n",
    "            counter.append(i)\n",
    "    if best_counter is None or len(counter) < len(best_counter):\n",
    "        best_counter = counter\n",
    "        best_e = e\n",
    "\n"
   ]
  },
  {
   "cell_type": "code",
   "execution_count": null,
   "metadata": {},
   "outputs": [],
   "source": [
    "rmap = {}\n",
    "d = 0\n",
    "for i in range(len(grammar.rules)):\n",
    "    if i in best_e:\n",
    "        d += 1\n",
    "        continue\n",
    "    rmap[i] = i-d\n",
    "\n",
    "for i in range(len(model)-1,-1,-1):\n",
    "    if i in best_counter:\n",
    "        model.pop(i)\n",
    "        continue\n",
    "    for n in model[i].graph:\n",
    "        r = model[i].graph[n].attrs['rule']\n",
    "        model[i].graph[n].attrs['rule'] = rmap[r]\n",
    "\n"
   ]
  },
  {
   "cell_type": "code",
   "execution_count": null,
   "metadata": {},
   "outputs": [],
   "source": []
  }
 ],
 "metadata": {
  "kernelspec": {
   "display_name": "ckt",
   "language": "python",
   "name": "python3"
  },
  "language_info": {
   "codemirror_mode": {
    "name": "ipython",
    "version": 3
   },
   "file_extension": ".py",
   "mimetype": "text/x-python",
   "name": "python",
   "nbconvert_exporter": "python",
   "pygments_lexer": "ipython3",
   "version": "3.7.16"
  }
 },
 "nbformat": 4,
 "nbformat_minor": 2
}
