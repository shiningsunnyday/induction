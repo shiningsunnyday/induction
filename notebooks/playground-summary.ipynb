{
 "cells": [
  {
   "cell_type": "code",
   "execution_count": null,
   "metadata": {},
   "outputs": [],
   "source": [
    "import os\n",
    "os.environ[\"config\"] = \"/home/msun415/induction/src/config/enas.yaml\"\n",
    "import sys\n",
    "os.chdir('/home/msun415/induction/')\n",
    "import pickle\n",
    "from src.config import METHOD, DATASET, GRAMMAR\n",
    "import importlib\n",
    "from src.examples import *\n",
    "from src.draw.color import to_hex, CMAP\n",
    "from src.draw.graph import draw_graph\n",
    "from src.config import RADIUS\n",
    "from argparse import ArgumentParser\n",
    "import pickle\n",
    "from src.grammar.common import get_args\n",
    "from src.grammar.ednce import *\n",
    "from src.draw.graph import *\n",
    "from src.api.get_motifs import *\n",
    "from src.algo.utils import *\n",
    "from src.algo.common import *\n",
    "from src.grammar.common import *\n",
    "from src.grammar.utils import *\n",
    "from src.algo.ednce import terminate, dfs\n",
    "from src.model import graph_regression, transformer_regression\n",
    "from argparse import ArgumentParser\n",
    "from networkx.algorithms.isomorphism import DiGraphMatcher\n",
    "import pdb\n",
    "from datetime import datetime"
   ]
  },
  {
   "cell_type": "code",
   "execution_count": null,
   "metadata": {},
   "outputs": [],
   "source": []
  },
  {
   "cell_type": "code",
   "execution_count": null,
   "metadata": {},
   "outputs": [],
   "source": [
    "%matplotlib inline\n",
    "\n",
    "def match(timestamp):\n",
    "    pattern = r\"(\\d{4})-(\\d{2})-(\\d{2}) (\\d{2}):(\\d{2}):(\\d{2})\"\n",
    "    match = re.match(pattern, timestamp)\n",
    "    if match:\n",
    "        year, month, day, hour, minute, second = map(int, match.groups())\n",
    "        dt = datetime(year, month, day, hour, minute, second)\n",
    "    else:\n",
    "        print(\"No match found!\")    \n",
    "        return None\n",
    "    return dt\n",
    "\n",
    "\n",
    "def plot_run(last_run, ax, plot_time=False, **kwargs):\n",
    "    lines = open('/home/msun415/induction/data/api_bn_ednce.log').readlines()\n",
    "    occurs = re.findall('(.+)graph at iter (\\d+) has (\\d+) nodes', '\\n'.join(lines))\n",
    "    start_inds = [i for i in range(len(occurs)) if occurs[i][1] == '1']    \n",
    "    index_start = start_inds[-last_run]\n",
    "    index_end = start_inds[-(last_run-1)] if last_run > 1 else len(occurs)\n",
    "    inds = []\n",
    "    vals = []\n",
    "    dts = []\n",
    "    print(index_start, index_end)\n",
    "    for i in range(index_start, index_end):\n",
    "        i1 = occurs[i][0].index('[')\n",
    "        i2 = occurs[i][0].index(']')\n",
    "        dt_cur = match(occurs[i][0][i1+1:i2])\n",
    "        if i > index_start:\n",
    "            dt_diff = (dt_cur-dt)\n",
    "            dts.append(dt_diff.seconds)\n",
    "        dt = dt_cur\n",
    "        inds.append(int(occurs[i][1]))\n",
    "        vals.append(int(occurs[i][2]))\n",
    "    if plot_time:\n",
    "        ax.plot(range(len(dts)), dts, **kwargs)\n",
    "    else:\n",
    "        ax.plot(inds, vals, **kwargs)\n",
    "    \n",
    "\n",
    "plt.close('all')\n",
    "fig, axes = plt.subplots(1,2)\n",
    "plot_run(1, axes[0], c='blue')\n",
    "plot_run(1, axes[1], plot_time=True, c='red')\n",
    "fig.show()"
   ]
  },
  {
   "cell_type": "code",
   "execution_count": null,
   "metadata": {},
   "outputs": [],
   "source": []
  }
 ],
 "metadata": {
  "kernelspec": {
   "display_name": "ckt",
   "language": "python",
   "name": "python3"
  },
  "language_info": {
   "codemirror_mode": {
    "name": "ipython",
    "version": 3
   },
   "file_extension": ".py",
   "mimetype": "text/x-python",
   "name": "python",
   "nbconvert_exporter": "python",
   "pygments_lexer": "ipython3",
   "version": "3.7.16"
  }
 },
 "nbformat": 4,
 "nbformat_minor": 2
}
