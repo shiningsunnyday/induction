{
 "cells": [
  {
   "cell_type": "code",
   "execution_count": 2,
   "metadata": {},
   "outputs": [
    {
     "name": "stderr",
     "output_type": "stream",
     "text": [
      "/home/msun415/miniforge3/envs/ckt/lib/python3.7/site-packages/tqdm/auto.py:21: TqdmWarning: IProgress not found. Please update jupyter and ipywidgets. See https://ipywidgets.readthedocs.io/en/stable/user_install.html\n",
      "  from .autonotebook import tqdm as notebook_tqdm\n"
     ]
    }
   ],
   "source": [
    "import os\n",
    "os.environ[\"config\"] = \"/home/msun415/induction/src/config/bn.yaml\"\n",
    "import sys\n",
    "os.chdir('/home/msun415/induction/')\n",
    "import pickle\n",
    "from src.config import METHOD, DATASET, GRAMMAR\n",
    "import importlib\n",
    "from src.examples import *\n",
    "from src.draw.color import to_hex, CMAP\n",
    "from src.draw.graph import draw_graph\n",
    "from src.config import RADIUS\n",
    "from argparse import ArgumentParser\n",
    "import pickle\n",
    "from src.grammar.common import get_args\n",
    "from src.grammar.ednce import *\n",
    "from src.draw.graph import *\n",
    "from src.api.get_motifs import *\n",
    "from src.algo.utils import *\n",
    "from src.algo.common import *\n",
    "from src.grammar.common import *\n",
    "from src.grammar.utils import *\n",
    "from src.algo.ednce import terminate, dfs\n",
    "from src.model import graph_regression, transformer_regression\n",
    "from argparse import ArgumentParser\n",
    "from networkx.algorithms.isomorphism import DiGraphMatcher\n",
    "import pdb\n",
    "from datetime import datetime"
   ]
  },
  {
   "cell_type": "markdown",
   "metadata": {},
   "source": []
  },
  {
   "cell_type": "code",
   "execution_count": null,
   "metadata": {},
   "outputs": [],
   "source": []
  },
  {
   "cell_type": "code",
   "execution_count": 5,
   "metadata": {},
   "outputs": [
    {
     "name": "stdout",
     "output_type": "stream",
     "text": [
      "121 1543\n",
      "121 1543\n"
     ]
    },
    {
     "data": {
      "image/png": "[encoded data removed]",
      "text/plain": [
       "<Figure size 640x480 with 2 Axes>"
      ]
     },
     "metadata": {},
     "output_type": "display_data"
    }
   ],
   "source": [
    "%matplotlib inline\n",
    "\n",
    "def match(timestamp):\n",
    "    pattern = r\"(\\d{4})-(\\d{2})-(\\d{2}) (\\d{2}):(\\d{2}):(\\d{2})\"\n",
    "    match = re.match(pattern, timestamp)\n",
    "    if match:\n",
    "        year, month, day, hour, minute, second = map(int, match.groups())\n",
    "        dt = datetime(year, month, day, hour, minute, second)\n",
    "    else:\n",
    "        print(\"No match found!\")    \n",
    "        return None\n",
    "    return dt\n",
    "\n",
    "\n",
    "def plot_run(last_run, ax, plot_time=False, **kwargs):\n",
    "    lines = open('/home/msun415/induction/data/api_bn_ednce.log').readlines()\n",
    "    # match string of the form: [2024-12-27 05:31:10,487][       ednce.py][line: 547][    INFO] graph at iter 1 has 49144 nodes\n",
    "    pattern = r'(\\[\\d{4}-\\d{2}-\\d{2} \\d{2}:\\d{2}:\\d{2},\\d{3}\\]\\[\\s*\\w+\\.py\\]\\[line: \\d+\\]\\[.*\\] graph at iter (\\d+) has (\\d+)) nodes'\n",
    "    occurs = [re.match(pattern, line) for line in lines]\n",
    "    occurs = list(filter(None, occurs))\n",
    "    start_inds = [i for i in range(len(occurs)) if occurs[i].groups()[1] == '1']\n",
    "    index_start = start_inds[-last_run]\n",
    "    index_end = start_inds[-(last_run-1)] if last_run > 1 else len(occurs)\n",
    "    inds = []\n",
    "    vals = []\n",
    "    dts = []\n",
    "    print(index_start, index_end)\n",
    "    for i in range(index_start, index_end):\n",
    "        i1 = occurs[i].groups()[0].index('[')\n",
    "        i2 = occurs[i].groups()[0].index(']')\n",
    "        dt_cur = match(occurs[i][0][i1+1:i2])\n",
    "        if i > index_start:\n",
    "            dt_diff = (dt_cur-dt)\n",
    "            dts.append(dt_diff.seconds)\n",
    "        dt = dt_cur\n",
    "        inds.append(int(occurs[i].groups()[1]))\n",
    "        vals.append(int(occurs[i].groups()[2]))\n",
    "    # account for restarts, cases where a later ind \"pops\" all prev. elements >= ind\n",
    "    new_inds = []\n",
    "    new_vals = []\n",
    "    for ind, val in zip(inds, vals):\n",
    "        while len(new_inds) and ind <= new_inds[-1]:\n",
    "            new_inds.pop(-1)\n",
    "            new_vals.pop(-1)\n",
    "        new_inds.append(ind)\n",
    "        new_vals.append(val)\n",
    "    inds = new_inds\n",
    "    vals = new_vals\n",
    "    if plot_time:\n",
    "        ax.plot(range(len(dts)), dts, **kwargs)\n",
    "        ax.set_ylim([0, 1500])\n",
    "        ax.set_xlim([len(dts)-10, len(dts)])\n",
    "    else:\n",
    "        ax.plot(inds, vals, **kwargs)\n",
    "plt.close('all')\n",
    "fig, axes = plt.subplots(1,2)\n",
    "plot_run(1, axes[0], c='blue')\n",
    "plot_run(1, axes[1], plot_time=True, c='red')\n",
    "fig.show()"
   ]
  },
  {
   "cell_type": "markdown",
   "metadata": {},
   "source": []
  },
  {
   "cell_type": "code",
   "execution_count": null,
   "metadata": {},
   "outputs": [],
   "source": []
  }
 ],
 "metadata": {
  "kernelspec": {
   "display_name": "ckt",
   "language": "python",
   "name": "python3"
  },
  "language_info": {
   "codemirror_mode": {
    "name": "ipython",
    "version": 3
   },
   "file_extension": ".py",
   "mimetype": "text/x-python",
   "name": "python",
   "nbconvert_exporter": "python",
   "pygments_lexer": "ipython3",
   "version": "3.7.16"
  }
 },
 "nbformat": 4,
 "nbformat_minor": 2
}
