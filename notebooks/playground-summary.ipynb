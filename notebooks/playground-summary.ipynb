{
 "cells": [
  {
   "cell_type": "code",
   "execution_count": null,
   "metadata": {},
   "outputs": [],
   "source": [
    "import os\n",
    "import sys\n",
    "os.chdir('/home/msun415/induction/')\n",
    "import pickle\n",
    "from src.config import METHOD, DATASET, GRAMMAR\n",
    "import importlib\n",
    "from src.examples import *\n",
    "from src.draw.color import to_hex, CMAP\n",
    "from src.draw.graph import draw_graph\n",
    "from src.config import RADIUS\n",
    "from argparse import ArgumentParser\n",
    "import pickle\n",
    "from src.grammar.common import get_args\n",
    "from src.grammar.ednce import *\n",
    "from src.draw.graph import *\n",
    "from src.api.get_motifs import *\n",
    "from src.algo.utils import *\n",
    "from src.algo.common import *\n",
    "from src.grammar.common import *\n",
    "from src.grammar.utils import *\n",
    "from src.algo.ednce import terminate, dfs\n",
    "from src.model import graph_regression, transformer_regression\n",
    "from argparse import ArgumentParser\n",
    "from networkx.algorithms.isomorphism import DiGraphMatcher\n",
    "import pdb"
   ]
  },
  {
   "cell_type": "code",
   "execution_count": null,
   "metadata": {},
   "outputs": [],
   "source": []
  },
  {
   "cell_type": "code",
   "execution_count": null,
   "metadata": {},
   "outputs": [],
   "source": [
    "%matplotlib inline\n",
    "def plot_run(last_run, ax, **kwargs):\n",
    "    lines = open('/home/msun415/induction/data/api_ckt_ednce.log').readlines()\n",
    "    occurs = re.findall('graph at iter (\\d+) has (\\d+) nodes', '\\n'.join(lines))\n",
    "    start_inds = [i for i in range(len(occurs)) if occurs[i][0] == '1']\n",
    "    index_start = start_inds[-last_run]\n",
    "    index_end = start_inds[-(last_run-1)] if last_run > 1 else len(occurs)\n",
    "    ax.plot([int(i) for i, _ in occurs[index_start:index_end]], [int(num) for _, num in occurs[index_start:index_end]], **kwargs)\n",
    "\n",
    "plt.close('all')\n",
    "fig, axes = plt.subplots(1, 2)\n",
    "plot_run(1, axes[0], c='blue')\n",
    "plot_run(2, axes[0], c='red')\n"
   ]
  },
  {
   "cell_type": "code",
   "execution_count": null,
   "metadata": {},
   "outputs": [],
   "source": []
  }
 ],
 "metadata": {
  "kernelspec": {
   "display_name": "ckt",
   "language": "python",
   "name": "python3"
  },
  "language_info": {
   "codemirror_mode": {
    "name": "ipython",
    "version": 3
   },
   "file_extension": ".py",
   "mimetype": "text/x-python",
   "name": "python",
   "nbconvert_exporter": "python",
   "pygments_lexer": "ipython3",
   "version": "3.7.16"
  }
 },
 "nbformat": 4,
 "nbformat_minor": 2
}
